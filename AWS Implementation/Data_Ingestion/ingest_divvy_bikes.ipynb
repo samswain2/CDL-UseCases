{
 "cells": [
  {
   "attachments": {},
   "cell_type": "markdown",
   "metadata": {},
   "source": [
    "# Data Ingestion: Divvy Bikes"
   ]
  },
  {
   "attachments": {},
   "cell_type": "markdown",
   "metadata": {},
   "source": [
    "### *Initial Setup*"
   ]
  },
  {
   "cell_type": "code",
   "execution_count": 35,
   "metadata": {},
   "outputs": [],
   "source": [
    "#Import python modules\n",
    "import boto3\n",
    "import configparser\n",
    "import json\n",
    "import pandas as pd\n",
    "import random\n",
    "import time"
   ]
  },
  {
   "cell_type": "code",
   "execution_count": 36,
   "metadata": {},
   "outputs": [],
   "source": [
    "#Load configurations \n",
    "#Ask Riu for access key information and update config file before running\n",
    "%run load_config.py"
   ]
  },
  {
   "cell_type": "code",
   "execution_count": 37,
   "metadata": {},
   "outputs": [],
   "source": [
    "#Define firehose object\n",
    "firehose = boto3.client(\n",
    "    'firehose',\n",
    "    region_name = \"us-east-2\",\n",
    "    aws_access_key_id = access_key_id,\n",
    "    aws_secret_access_key = secret_access_key)"
   ]
  },
  {
   "attachments": {},
   "cell_type": "markdown",
   "metadata": {},
   "source": [
    "### *Prepare Data for Streaming*"
   ]
  },
  {
   "cell_type": "code",
   "execution_count": 10,
   "metadata": {},
   "outputs": [],
   "source": [
    "#Read data\n",
    "r_path = \"../../../Divvy Bikes/Data/\"\n",
    "csv_name = \"trips_full.csv\"\n",
    "\n",
    "df = pd.read_csv(r_path + csv_name, low_memory = False)"
   ]
  },
  {
   "cell_type": "code",
   "execution_count": 21,
   "metadata": {},
   "outputs": [],
   "source": [
    "#Column names\n",
    "column_names = [\"trip_id\", \"start_time\", \"end_time\", \"bikeid\", \"tripduration\", \n",
    "                 \"from_station_id\", \"from_station_name\", \"to_station_id\", \"to_station_name\", \n",
    "                 \"usertype\", \"gender\", \"birthyear\"]\n",
    "\n",
    "#Convert specified columns from int64 to string\n",
    "df[\"trip_id\"] = df[\"trip_id\"].astype(str)\n",
    "df[\"bikeid\"] = df[\"bikeid\"].astype(str)\n",
    "df[\"from_station_id\"] = df[\"from_station_id\"].astype(str)\n",
    "df[\"to_station_id\"] = df[\"to_station_id\"].astype(str)"
   ]
  },
  {
   "cell_type": "code",
   "execution_count": 11,
   "metadata": {},
   "outputs": [],
   "source": [
    "#Keep only test data for simulating streaming\n",
    "#df = (filter data to only keep test data)"
   ]
  },
  {
   "attachments": {},
   "cell_type": "markdown",
   "metadata": {},
   "source": [
    "### *Simulate Streaming*"
   ]
  },
  {
   "cell_type": "code",
   "execution_count": null,
   "metadata": {},
   "outputs": [],
   "source": [
    "#Define number of rows in data\n",
    "nrow = df.shape[0]"
   ]
  },
  {
   "cell_type": "code",
   "execution_count": 38,
   "metadata": {},
   "outputs": [],
   "source": [
    "#Simulate data streaming\n",
    "for i in range(nrow):\n",
    "    response = firehose.put_record(\n",
    "        DeliveryStreamName = DeliveryStreamName,\n",
    "        Record = {\n",
    "            \"Data\": json.dumps(\n",
    "                {\n",
    "                    f\"{column_names[0]}\": df.at[df.index[i], column_names[0]],\n",
    "                    f\"{column_names[1]}\": df.at[df.index[i], column_names[1]],\n",
    "                    f\"{column_names[2]}\": df.at[df.index[i], column_names[2]],\n",
    "                    f\"{column_names[3]}\": df.at[df.index[i], column_names[3]],\n",
    "                    f\"{column_names[4]}\": df.at[df.index[i], column_names[4]],\n",
    "                    f\"{column_names[5]}\": df.at[df.index[i], column_names[5]],\n",
    "                    f\"{column_names[6]}\": df.at[df.index[i], column_names[6]],\n",
    "                    f\"{column_names[7]}\": df.at[df.index[i], column_names[7]],\n",
    "                    f\"{column_names[8]}\": df.at[df.index[i], column_names[8]],\n",
    "                    f\"{column_names[9]}\": df.at[df.index[i], column_names[9]],\n",
    "                    f\"{column_names[10]}\": df.at[df.index[i], column_names[10]],\n",
    "                    f\"{column_names[11]}\": df.at[df.index[i], column_names[11]]\n",
    "                }\n",
    "            )\n",
    "        }\n",
    "    )\n",
    "    time.sleep(round(random.uniform(0.01, 0.15), 3))"
   ]
  },
  {
   "cell_type": "code",
   "execution_count": null,
   "metadata": {},
   "outputs": [],
   "source": []
  }
 ],
 "metadata": {
  "kernelspec": {
   "display_name": "base",
   "language": "python",
   "name": "python3"
  },
  "language_info": {
   "codemirror_mode": {
    "name": "ipython",
    "version": 3
   },
   "file_extension": ".py",
   "mimetype": "text/x-python",
   "name": "python",
   "nbconvert_exporter": "python",
   "pygments_lexer": "ipython3",
   "version": "3.8.8"
  },
  "orig_nbformat": 4
 },
 "nbformat": 4,
 "nbformat_minor": 2
}
