{
 "cells": [
  {
   "cell_type": "markdown",
   "id": "3d32d2d3",
   "metadata": {},
   "source": [
    "# Data Ingestion: Motion Sense"
   ]
  },
  {
   "cell_type": "markdown",
   "id": "6a18eb53",
   "metadata": {},
   "source": [
    "## Initial Setup"
   ]
  },
  {
   "cell_type": "code",
   "execution_count": 1,
   "id": "747cfd2b",
   "metadata": {},
   "outputs": [],
   "source": [
    "#Import python modules\n",
    "import boto3\n",
    "import configparser\n",
    "import json\n",
    "import pandas as pd\n",
    "import random\n",
    "import time\n"
   ]
  },
  {
   "cell_type": "code",
   "execution_count": null,
   "id": "cdfc82d6",
   "metadata": {},
   "outputs": [],
   "source": [
    "#Load configurations \n",
    "#Ask Riu for access key information and update config file before running\n",
    "%run load_config.py"
   ]
  },
  {
   "cell_type": "code",
   "execution_count": null,
   "id": "d12f92c1",
   "metadata": {},
   "outputs": [],
   "source": [
    "#Define firehose object\n",
    "firehose = boto3.client(\n",
    "    'firehose',\n",
    "    region_name = \"us-east-2\",\n",
    "    aws_access_key_id = access_key_id,\n",
    "    aws_secret_access_key = secret_access_key)"
   ]
  },
  {
   "cell_type": "markdown",
   "id": "33f9ea4c",
   "metadata": {},
   "source": [
    "## Prepare Data for Streaming"
   ]
  },
  {
   "cell_type": "code",
   "execution_count": null,
   "id": "45a46575",
   "metadata": {},
   "outputs": [],
   "source": [
    "#Read data\n",
    "r_path = \"../../../Motion Sense/Data/\"\n",
    "csv_name = \"df_all_data.csv\"\n",
    "\n",
    "df = pd.read_csv(r_path + csv_name, low_memory = False)"
   ]
  },
  {
   "cell_type": "code",
   "execution_count": null,
   "id": "79ef8a37",
   "metadata": {},
   "outputs": [],
   "source": [
    "#Column names\n",
    "column_names = [\"tick_num\",\"attitude.roll\",\"attitude.pitch\",\"attitude.yaw\",\"gravity.x\",\"gravity.y\",\"gravity.z\",\"rotationRate.x\",\"rotationRate.y\",\"rotationRate.z\",\"userAcceleration.x\",\"userAcceleration.y\",\"userAcceleration.z\",\"test_type\",\"subject_id\",\"test_trial_number\",\"time_since_start\",\"time_series_data\",\"attitude\",\"gravity\",\"rotationRate\",\"userAcceleration\",\"weight\",\"height\",\"age\",\"gender\"]\n",
    "\n",
    "#Convert specified columns from int64 to string\n",
    "df[\"tick_num\"] = df[\"tick_num\"].astype(str)\n",
    "df[\"test_trial_number\"] = df[\"test_trial_number\"].astype(str)\n",
    "df[\"weight\"] = df[\"weight\"].astype(str)\n",
    "df[\"height\"] = df[\"height\"].astype(str)\n",
    "df[\"age\"] = df[\"age\"].astype(str)\n",
    "df[\"gender\"] = df[\"gender\"].astype(str)"
   ]
  },
  {
   "cell_type": "code",
   "execution_count": null,
   "id": "316534ff",
   "metadata": {},
   "outputs": [],
   "source": [
    "#Keep only test data for simulating streaming\n",
    "#df = (filter data to only keep test data)"
   ]
  },
  {
   "cell_type": "markdown",
   "id": "1b860928",
   "metadata": {},
   "source": [
    "## Simulate Streaming"
   ]
  },
  {
   "cell_type": "code",
   "execution_count": null,
   "id": "122ec88a",
   "metadata": {},
   "outputs": [],
   "source": [
    "#Define number of rows in data\n",
    "nrow = df.shape[0]"
   ]
  },
  {
   "cell_type": "code",
   "execution_count": null,
   "id": "b624c647",
   "metadata": {},
   "outputs": [],
   "source": [
    "#Simulate data streaming\n",
    "for i in range(nrow):\n",
    "    response = firehose.put_record(\n",
    "        DeliveryStreamName = DeliveryStreamName,\n",
    "        Record = {\n",
    "            \"Data\": json.dumps(\n",
    "                {\n",
    "                    f\"{}\".format(column_names[0]): final_df_full.at[df.index[i],f\"{}\".format(column_names[0])],\n",
    "                    f\"{}\".format(column_names[1]): final_df_full.at[df.index[i],f\"{}\".format(column_names[1])],\n",
    "                    f\"{}\".format(column_names[2]): final_df_full.at[df.index[i],f\"{}\".format(column_names[2])],\n",
    "                    f\"{}\".format(column_names[3]): final_df_full.at[df.index[i],f\"{}\".format(column_names[3])],\n",
    "                    f\"{}\".format(column_names[4]): final_df_full.at[df.index[i],f\"{}\".format(column_names[4])],\n",
    "                    f\"{}\".format(column_names[5]): final_df_full.at[df.index[i],f\"{}\".format(column_names[5])],\n",
    "                    f\"{}\".format(column_names[6]): final_df_full.at[df.index[i],f\"{}\".format(column_names[6])],\n",
    "                    f\"{}\".format(column_names[7]): final_df_full.at[df.index[i],f\"{}\".format(column_names[7])],\n",
    "                    f\"{}\".format(column_names[8]): final_df_full.at[df.index[i],f\"{}\".format(column_names[8])],\n",
    "                    f\"{}\".format(column_names[9]): final_df_full.at[df.index[i],f\"{}\".format(column_names[9])],\n",
    "                    f\"{}\".format(column_names[10]): final_df_full.at[df.index[i],f\"{}\".format(column_names[10])],\n",
    "                    f\"{}\".format(column_names[11]): final_df_full.at[df.index[i],f\"{}\".format(column_names[11])],\n",
    "                    f\"{}\".format(column_names[0]): final_df_full.at[df.index[i],f\"{}\".format(column_names[12])],\n",
    "                    f\"{}\".format(column_names[1]): final_df_full.at[df.index[i],f\"{}\".format(column_names[13])],\n",
    "                    f\"{}\".format(column_names[2]): final_df_full.at[df.index[i],f\"{}\".format(column_names[14])],\n",
    "                    f\"{}\".format(column_names[3]): final_df_full.at[df.index[i],f\"{}\".format(column_names[15])],\n",
    "                    f\"{}\".format(column_names[4]): final_df_full.at[df.index[i],f\"{}\".format(column_names[16])],\n",
    "                    f\"{}\".format(column_names[5]): final_df_full.at[df.index[i],f\"{}\".format(column_names[17])],\n",
    "                    f\"{}\".format(column_names[6]): final_df_full.at[df.index[i],f\"{}\".format(column_names[18])],\n",
    "                    f\"{}\".format(column_names[7]): final_df_full.at[df.index[i],f\"{}\".format(column_names[19])],\n",
    "                    f\"{}\".format(column_names[8]): final_df_full.at[df.index[i],f\"{}\".format(column_names[20])],\n",
    "                    f\"{}\".format(column_names[9]): final_df_full.at[df.index[i],f\"{}\".format(column_names[21])],\n",
    "                    f\"{}\".format(column_names[10]): final_df_full.at[df.index[i],f\"{}\".format(column_names[22])],\n",
    "                    f\"{}\".format(column_names[11]): final_df_full.at[df.index[i],f\"{}\".format(column_names[23])],\n",
    "                    f\"{}\".format(column_names[10]): final_df_full.at[df.index[i],f\"{}\".format(column_names[24])],\n",
    "                    f\"{}\".format(column_names[11]): final_df_full.at[df.index[i],f\"{}\".format(column_names[25])]\n",
    "                }\n",
    "            )\n",
    "        }\n",
    "    )\n",
    "    time.sleep(round(random.uniform(0.01, 0.15), 3))"
   ]
  }
 ],
 "metadata": {
  "kernelspec": {
   "display_name": "Python 3 (ipykernel)",
   "language": "python",
   "name": "python3"
  },
  "language_info": {
   "codemirror_mode": {
    "name": "ipython",
    "version": 3
   },
   "file_extension": ".py",
   "mimetype": "text/x-python",
   "name": "python",
   "nbconvert_exporter": "python",
   "pygments_lexer": "ipython3",
   "version": "3.9.12"
  }
 },
 "nbformat": 4,
 "nbformat_minor": 5
}
