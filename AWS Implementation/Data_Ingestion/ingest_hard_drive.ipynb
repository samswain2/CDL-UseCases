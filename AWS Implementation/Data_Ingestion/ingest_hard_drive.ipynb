{
 "cells": [
  {
   "cell_type": "markdown",
   "id": "532e9a10",
   "metadata": {},
   "source": [
    "# Data Ingestion: Hard Drive"
   ]
  },
  {
   "cell_type": "markdown",
   "id": "1b4b5cd5",
   "metadata": {},
   "source": [
    "##### Initial Setup"
   ]
  },
  {
   "cell_type": "code",
   "execution_count": null,
   "id": "3f28ebf7",
   "metadata": {},
   "outputs": [],
   "source": [
    "#Import python modules\n",
    "import boto3\n",
    "import configparser\n",
    "import json\n",
    "import pandas as pd\n",
    "import random\n",
    "import time"
   ]
  },
  {
   "cell_type": "code",
   "execution_count": null,
   "id": "14c0d9bf",
   "metadata": {},
   "outputs": [],
   "source": [
    "#Load configurations \n",
    "#Ask Riu for access key information and update config file before running\n",
    "%run load_config.py"
   ]
  },
  {
   "cell_type": "code",
   "execution_count": null,
   "id": "d9d4efe7",
   "metadata": {},
   "outputs": [],
   "source": [
    "#Define firehose object\n",
    "firehose = boto3.client(\n",
    "    'firehose',\n",
    "    region_name = \"us-east-2\",\n",
    "    aws_access_key_id = access_key_id,\n",
    "    aws_secret_access_key = secret_access_key)"
   ]
  },
  {
   "cell_type": "markdown",
   "id": "178bcd85",
   "metadata": {},
   "source": [
    "##### Prepare Data for Streaming"
   ]
  },
  {
   "cell_type": "code",
   "execution_count": null,
   "id": "e6a120f7",
   "metadata": {},
   "outputs": [],
   "source": [
    "#Read data\n",
    "r_path = \"../../../HardDrive/Data/\"\n",
    "csv_name = \"df_analysis.csv\"\n",
    "\n",
    "df = pd.read_csv(r_path + csv_name, low_memory = False)"
   ]
  },
  {
   "cell_type": "code",
   "execution_count": null,
   "id": "b8bf285a",
   "metadata": {},
   "outputs": [],
   "source": [
    "#Define number of rows in data\n",
    "nrow = df.shape[0]"
   ]
  },
  {
   "cell_type": "code",
   "execution_count": null,
   "id": "41c26b05",
   "metadata": {},
   "outputs": [],
   "source": [
    "#Simulate data streaming\n",
    "for i in range(nrow):\n",
    "    response = firehose.put_record(\n",
    "        DeliveryStreamName = DeliveryStreamName,\n",
    "        Record = {\n",
    "            \"Data\": json.dumps(\n",
    "                {\n",
    "                    f\"{}\".format(column_names[0]): final_df_full.at[df.index[i],f\"{}\".format(column_names[0])],\n",
    "                    f\"{}\".format(column_names[1]): final_df_full.at[df.index[i],f\"{}\".format(column_names[1])],\n",
    "                    f\"{}\".format(column_names[2]): final_df_full.at[df.index[i],f\"{}\".format(column_names[2])],\n",
    "                    f\"{}\".format(column_names[3]): final_df_full.at[df.index[i],f\"{}\".format(column_names[3])],\n",
    "                    f\"{}\".format(column_names[4]): final_df_full.at[df.index[i],f\"{}\".format(column_names[4])],\n",
    "                    f\"{}\".format(column_names[5]): final_df_full.at[df.index[i],f\"{}\".format(column_names[5])],\n",
    "                    f\"{}\".format(column_names[6]): final_df_full.at[df.index[i],f\"{}\".format(column_names[6])],\n",
    "                    f\"{}\".format(column_names[7]): final_df_full.at[df.index[i],f\"{}\".format(column_names[7])],\n",
    "                    f\"{}\".format(column_names[8]): final_df_full.at[df.index[i],f\"{}\".format(column_names[8])],\n",
    "                    f\"{}\".format(column_names[9]): final_df_full.at[df.index[i],f\"{}\".format(column_names[9])],\n",
    "                    f\"{}\".format(column_names[10]): final_df_full.at[df.index[i],f\"{}\".format(column_names[10])],\n",
    "                    f\"{}\".format(column_names[11]): final_df_full.at[df.index[i],f\"{}\".format(column_names[11])],\n",
    "                    f\"{}\".format(column_names[12]): final_df_full.at[df.index[i],f\"{}\".format(column_names[12])],\n",
    "                    f\"{}\".format(column_names[13]): final_df_full.at[df.index[i],f\"{}\".format(column_names[13])],\n",
    "                    f\"{}\".format(column_names[14]): final_df_full.at[df.index[i],f\"{}\".format(column_names[14])],\n",
    "                    f\"{}\".format(column_names[15]): final_df_full.at[df.index[i],f\"{}\".format(column_names[15])],\n",
    "                    f\"{}\".format(column_names[16]): final_df_full.at[df.index[i],f\"{}\".format(column_names[16])],\n",
    "                    f\"{}\".format(column_names[17]): final_df_full.at[df.index[i],f\"{}\".format(column_names[17])],\n",
    "                    f\"{}\".format(column_names[18]): final_df_full.at[df.index[i],f\"{}\".format(column_names[18])],\n",
    "                    f\"{}\".format(column_names[19]): final_df_full.at[df.index[i],f\"{}\".format(column_names[19])],\n",
    "                    f\"{}\".format(column_names[20]): final_df_full.at[df.index[i],f\"{}\".format(column_names[20])],\n",
    "                    f\"{}\".format(column_names[21]): final_df_full.at[df.index[i],f\"{}\".format(column_names[21])],\n",
    "                    f\"{}\".format(column_names[22]): final_df_full.at[df.index[i],f\"{}\".format(column_names[22])],\n",
    "                    f\"{}\".format(column_names[23]): final_df_full.at[df.index[i],f\"{}\".format(column_names[23])],\n",
    "                    f\"{}\".format(column_names[24]): final_df_full.at[df.index[i],f\"{}\".format(column_names[24])],\n",
    "                    f\"{}\".format(column_names[25]): final_df_full.at[df.index[i],f\"{}\".format(column_names[25])],\n",
    "                    f\"{}\".format(column_names[26]): final_df_full.at[df.index[i],f\"{}\".format(column_names[26])],\n",
    "                    f\"{}\".format(column_names[27]): final_df_full.at[df.index[i],f\"{}\".format(column_names[27])],\n",
    "                    f\"{}\".format(column_names[28]): final_df_full.at[df.index[i],f\"{}\".format(column_names[28])],\n",
    "                    f\"{}\".format(column_names[29]): final_df_full.at[df.index[i],f\"{}\".format(column_names[29])],\n",
    "                    f\"{}\".format(column_names[30]): final_df_full.at[df.index[i],f\"{}\".format(column_names[30])],\n",
    "                    f\"{}\".format(column_names[31]): final_df_full.at[df.index[i],f\"{}\".format(column_names[31])],\n",
    "                    f\"{}\".format(column_names[32]): final_df_full.at[df.index[i],f\"{}\".format(column_names[32])],\n",
    "                    f\"{}\".format(column_names[33]): final_df_full.at[df.index[i],f\"{}\".format(column_names[33])],\n",
    "                    f\"{}\".format(column_names[34]): final_df_full.at[df.index[i],f\"{}\".format(column_names[34])]\n",
    "                }\n",
    "            )\n",
    "        }\n",
    "    )\n",
    "    time.sleep(round(random.uniform(0.01, 0.15), 3))"
   ]
  }
 ],
 "metadata": {
  "kernelspec": {
   "display_name": "Python 3",
   "language": "python",
   "name": "python3"
  },
  "language_info": {
   "codemirror_mode": {
    "name": "ipython",
    "version": 3
   },
   "file_extension": ".py",
   "mimetype": "text/x-python",
   "name": "python",
   "nbconvert_exporter": "python",
   "pygments_lexer": "ipython3",
   "version": "3.7.6"
  }
 },
 "nbformat": 4,
 "nbformat_minor": 5
}
