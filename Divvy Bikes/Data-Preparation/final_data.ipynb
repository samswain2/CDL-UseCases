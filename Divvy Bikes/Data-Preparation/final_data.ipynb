{
 "cells": [
  {
   "attachments": {},
   "cell_type": "markdown",
   "metadata": {},
   "source": [
    "## Final Data Creation"
   ]
  },
  {
   "attachments": {},
   "cell_type": "markdown",
   "metadata": {},
   "source": [
    "### Import Modules"
   ]
  },
  {
   "cell_type": "code",
   "execution_count": 1,
   "metadata": {},
   "outputs": [],
   "source": [
    "#Import modules\n",
    "import geographic as geo\n",
    "import numpy as np\n",
    "import pandas as pd"
   ]
  },
  {
   "attachments": {},
   "cell_type": "markdown",
   "metadata": {},
   "source": [
    "### Stations Data"
   ]
  },
  {
   "cell_type": "code",
   "execution_count": 2,
   "metadata": {},
   "outputs": [],
   "source": [
    "#Read stations data\n",
    "stations = pd.read_csv(\"../../Data/all_stations.csv\")"
   ]
  },
  {
   "cell_type": "code",
   "execution_count": 3,
   "metadata": {},
   "outputs": [],
   "source": [
    "#Drop \"Unnamed: 0\" column\n",
    "stations = stations.drop(\"Unnamed: 0\", axis = 1)"
   ]
  },
  {
   "cell_type": "code",
   "execution_count": 4,
   "metadata": {},
   "outputs": [],
   "source": [
    "#Add zip code info to stations data\n",
    "lat = stations[\"latitude\"]\n",
    "long = stations[\"longitude\"]\n",
    "stations = geo.addZip(stations, lat, long)"
   ]
  },
  {
   "cell_type": "code",
   "execution_count": 6,
   "metadata": {},
   "outputs": [],
   "source": [
    "#Impute missing station zip codes\n",
    "stations = geo.imputeStationsZip(stations, 5)"
   ]
  },
  {
   "attachments": {},
   "cell_type": "markdown",
   "metadata": {},
   "source": [
    "### Landmarks Data"
   ]
  },
  {
   "cell_type": "code",
   "execution_count": 8,
   "metadata": {},
   "outputs": [],
   "source": [
    "#Read landmarks data\n",
    "landmarks = pd.read_csv(\"../../Data/landmarks.csv\")"
   ]
  },
  {
   "cell_type": "code",
   "execution_count": 9,
   "metadata": {},
   "outputs": [],
   "source": [
    "#Add zip code info to landmarks data\n",
    "lat = landmarks[\"LATITUDE\"]\n",
    "long = landmarks[\"LONGITUDE\"]\n",
    "landmarks = geo.addZip(landmarks, lat, long)"
   ]
  },
  {
   "cell_type": "code",
   "execution_count": 10,
   "metadata": {},
   "outputs": [],
   "source": [
    "#Impute missing landmark zip code\n",
    "landmarks = geo.imputeLandmarksZip(landmarks)"
   ]
  },
  {
   "cell_type": "code",
   "execution_count": 20,
   "metadata": {},
   "outputs": [],
   "source": [
    "#Transform landmarks dataframe for merging\n",
    "landmarks = landmarks.groupby(\"zip_code\").agg(landmarks = (\"zip_code\", \"count\")).reset_index()"
   ]
  },
  {
   "attachments": {},
   "cell_type": "markdown",
   "metadata": {},
   "source": [
    "### Weather Data"
   ]
  },
  {
   "cell_type": "code",
   "execution_count": 47,
   "metadata": {},
   "outputs": [],
   "source": [
    "#Read weather data\n",
    "weather = pd.read_csv(\"../../Data/weather.csv\", parse_dates = True)"
   ]
  },
  {
   "cell_type": "code",
   "execution_count": 48,
   "metadata": {},
   "outputs": [],
   "source": [
    "#Convert time column to datetime\n",
    "weather[\"time\"] = pd.to_datetime(weather[\"time\"])"
   ]
  },
  {
   "cell_type": "code",
   "execution_count": 49,
   "metadata": {},
   "outputs": [],
   "source": [
    "#Rename weather dataframe columns\n",
    "weather = weather.rename(columns = {\"temperature_2m (°C)\" : \"temp\",\n",
    "                                    \"relativehumidity_2m (%)\" : \"rel_humidity\",\n",
    "                                    \"dewpoint_2m (°C)\" : \"dewpoint\",\n",
    "                                    \"apparent_temperature (°C)\" : \"apparent_temp\",\n",
    "                                    \"precipitation (mm)\" : \"precip\",\n",
    "                                    \"rain (mm)\" : \"rain\",\n",
    "                                    \"snowfall (cm)\" : \"snow\",\n",
    "                                    \"cloudcover (%)\" : \"cloudcover\",\n",
    "                                    \"windspeed_10m (km/h)\" : \"windspeed\"})"
   ]
  },
  {
   "cell_type": "code",
   "execution_count": 51,
   "metadata": {},
   "outputs": [],
   "source": [
    "#Keep only relevant columns\n",
    "weather = weather.loc[ :, [\"time\", \"temp\", \"rel_humidity\", \"dewpoint\",\n",
    "                           \"apparent_temp\", \"precip\", \"rain\",\n",
    "                           \"snow\", \"cloudcover\", \"windspeed\"]]"
   ]
  },
  {
   "attachments": {},
   "cell_type": "markdown",
   "metadata": {},
   "source": [
    "### Trips Data"
   ]
  },
  {
   "cell_type": "code",
   "execution_count": 121,
   "metadata": {},
   "outputs": [],
   "source": [
    "#Read trips data\n",
    "trips = pd.read_csv(\"../../Data/trips_full.csv\", low_memory = False)"
   ]
  },
  {
   "cell_type": "code",
   "execution_count": 122,
   "metadata": {},
   "outputs": [],
   "source": [
    "#Convert start_time column to datetime\n",
    "trips[\"start_time\"] = pd.to_datetime(trips[\"start_time\"])"
   ]
  },
  {
   "cell_type": "code",
   "execution_count": 123,
   "metadata": {},
   "outputs": [],
   "source": [
    "#Keep only relevant columns\n",
    "trips = trips.loc[ :, [\"start_time\", \"from_station_id\"]]"
   ]
  },
  {
   "cell_type": "code",
   "execution_count": 124,
   "metadata": {},
   "outputs": [],
   "source": [
    "#Round down start_time to the nearest hour\n",
    "trips[\"start_time\"] = trips[\"start_time\"].dt.floor(\"H\")"
   ]
  },
  {
   "attachments": {},
   "cell_type": "markdown",
   "metadata": {},
   "source": [
    "### Merge Data"
   ]
  },
  {
   "cell_type": "code",
   "execution_count": 89,
   "metadata": {},
   "outputs": [],
   "source": [
    "#Merge landmarks data with station data\n",
    "sl = stations.merge(landmarks, on = \"zip_code\", how = \"left\")"
   ]
  },
  {
   "cell_type": "code",
   "execution_count": 91,
   "metadata": {},
   "outputs": [],
   "source": [
    "#Fill missing landmark values with 0\n",
    "sl[\"landmarks\"] = sl[\"landmarks\"].fillna(0)\n",
    "\n",
    "#Convert landmarks column to integer type\n",
    "sl[\"landmarks\"] = sl[\"landmarks\"].astype(int)"
   ]
  },
  {
   "cell_type": "code",
   "execution_count": 126,
   "metadata": {},
   "outputs": [],
   "source": [
    "#Merge sl with trips data\n",
    "tsl = trips.merge(sl, left_on = \"from_station_id\", right_on = \"id\", how = \"inner\")"
   ]
  },
  {
   "cell_type": "code",
   "execution_count": 131,
   "metadata": {},
   "outputs": [],
   "source": [
    "#Merge weather data with tsl\n",
    "tslw = tsl.merge(weather, left_on = \"start_time\", right_on = \"time\", how = \"inner\")"
   ]
  },
  {
   "attachments": {},
   "cell_type": "markdown",
   "metadata": {},
   "source": [
    "### Final Data"
   ]
  },
  {
   "cell_type": "code",
   "execution_count": 180,
   "metadata": {},
   "outputs": [],
   "source": [
    "#Create final data structure\n",
    "df = tslw.groupby([\"start_time\", \"zip_code\"]).agg(trips = (\"id\", \"count\")).reset_index()"
   ]
  },
  {
   "cell_type": "code",
   "execution_count": 181,
   "metadata": {},
   "outputs": [],
   "source": [
    "#Keep only unique zip codes in sl\n",
    "sl_u = sl.drop_duplicates(subset = [\"zip_code\"])\n",
    "\n",
    "#Add landmarks information to df using sl_u\n",
    "df = df.merge(sl_u.loc[:, [\"zip_code\", \"landmarks\"]], on = \"zip_code\", how = \"inner\")"
   ]
  },
  {
   "cell_type": "code",
   "execution_count": 188,
   "metadata": {},
   "outputs": [],
   "source": [
    "#Add weather information to df\n",
    "df = df.merge(weather, left_on = \"start_time\", right_on = \"time\", how = \"inner\")"
   ]
  },
  {
   "cell_type": "code",
   "execution_count": 192,
   "metadata": {},
   "outputs": [],
   "source": [
    "#Drop time column from df\n",
    "df = df.drop(columns = \"time\", axis = 1)"
   ]
  },
  {
   "cell_type": "code",
   "execution_count": 200,
   "metadata": {},
   "outputs": [],
   "source": [
    "#One-hot encode zip codes\n",
    "ohe_zip = pd.get_dummies(df[\"zip_code\"])\n",
    "\n",
    "#Add one-hot encoding back to df\n",
    "df = pd.concat([df, ohe_zip], axis = 1)"
   ]
  },
  {
   "cell_type": "code",
   "execution_count": 204,
   "metadata": {},
   "outputs": [],
   "source": [
    "#Drop original zip code column from df\n",
    "df = df.drop(columns = \"zip_code\", axis = 1)"
   ]
  },
  {
   "cell_type": "code",
   "execution_count": 211,
   "metadata": {},
   "outputs": [],
   "source": [
    "#Write final data to a csv file\n",
    "df.to_csv(\"../../Data/final_data.csv\", index = False)"
   ]
  }
 ],
 "metadata": {
  "kernelspec": {
   "display_name": "base",
   "language": "python",
   "name": "python3"
  },
  "language_info": {
   "codemirror_mode": {
    "name": "ipython",
    "version": 3
   },
   "file_extension": ".py",
   "mimetype": "text/x-python",
   "name": "python",
   "nbconvert_exporter": "python",
   "pygments_lexer": "ipython3",
   "version": "3.8.8"
  },
  "orig_nbformat": 4
 },
 "nbformat": 4,
 "nbformat_minor": 2
}
