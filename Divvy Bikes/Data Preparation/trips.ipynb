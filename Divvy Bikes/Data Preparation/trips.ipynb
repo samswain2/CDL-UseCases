{
 "cells": [
  {
   "attachments": {},
   "cell_type": "markdown",
   "metadata": {},
   "source": [
    "# Fixing column names"
   ]
  },
  {
   "cell_type": "code",
   "execution_count": 1,
   "metadata": {},
   "outputs": [],
   "source": [
    "import pandas as pd\n",
    "import numpy as np\n",
    "import seaborn as sns\n",
    "import matplotlib.pyplot as plt\n",
    "import datetime as dt\n",
    "import collections\n",
    "import os\n",
    "import glob"
   ]
  },
  {
   "cell_type": "code",
   "execution_count": 7,
   "metadata": {},
   "outputs": [],
   "source": [
    "path = os.getcwd()\n",
    "csv_files = glob.glob(os.path.join(path, \"*.csv\"))\n",
    "df_dict = {}\n",
    "for f in csv_files:\n",
    "    df_dict[f.split(\"\\\\\")[-1]] = pd.read_csv(f)"
   ]
  },
  {
   "cell_type": "code",
   "execution_count": 8,
   "metadata": {},
   "outputs": [
    {
     "data": {
      "text/plain": [
       "dict_keys(['Divvy_Trips_2018_Q1.csv', 'Divvy_Trips_2018_Q2.csv', 'Divvy_Trips_2018_Q3.csv', 'Divvy_Trips_2018_Q4.csv', 'Divvy_Trips_2019_Q1.csv', 'Divvy_Trips_2019_Q2.csv', 'Divvy_Trips_2019_Q3.csv', 'Divvy_Trips_2019_Q4.csv'])"
      ]
     },
     "execution_count": 8,
     "metadata": {},
     "output_type": "execute_result"
    }
   ],
   "source": [
    "# 2018 Q1, 2019 Q2 different from others\n",
    "df_dict.keys()"
   ]
  },
  {
   "cell_type": "code",
   "execution_count": 16,
   "metadata": {},
   "outputs": [
    {
     "data": {
      "text/plain": [
       "[['01 - Rental Details Rental ID',\n",
       "  '01 - Rental Details Local Start Time',\n",
       "  '01 - Rental Details Local End Time',\n",
       "  '01 - Rental Details Bike ID',\n",
       "  '01 - Rental Details Duration In Seconds Uncapped',\n",
       "  '03 - Rental Start Station ID',\n",
       "  '03 - Rental Start Station Name',\n",
       "  '02 - Rental End Station ID',\n",
       "  '02 - Rental End Station Name',\n",
       "  'User Type',\n",
       "  'Member Gender',\n",
       "  '05 - Member Details Member Birthday Year'],\n",
       " ['trip_id',\n",
       "  'start_time',\n",
       "  'end_time',\n",
       "  'bikeid',\n",
       "  'tripduration',\n",
       "  'from_station_id',\n",
       "  'from_station_name',\n",
       "  'to_station_id',\n",
       "  'to_station_name',\n",
       "  'usertype',\n",
       "  'gender',\n",
       "  'birthyear']]"
      ]
     },
     "execution_count": 16,
     "metadata": {},
     "output_type": "execute_result"
    }
   ],
   "source": [
    "col_name = []\n",
    "for k in df_dict.keys():\n",
    "    col_name.append(list(df_dict[k].columns))\n",
    "[list(x) for x in set(tuple(x) for x in col_name)]"
   ]
  },
  {
   "cell_type": "code",
   "execution_count": 17,
   "metadata": {},
   "outputs": [],
   "source": [
    "df_dict['Divvy_Trips_2018_Q1.csv'].columns = ['trip_id', 'start_time', 'end_time', 'bikeid', 'tripduration', 'from_station_id', 'from_station_name', 'to_station_id', 'to_station_name', 'usertype', 'gender', 'birthyear']\n",
    "df_dict['Divvy_Trips_2019_Q2.csv'].columns = ['trip_id', 'start_time', 'end_time', 'bikeid', 'tripduration', 'from_station_id', 'from_station_name', 'to_station_id', 'to_station_name', 'usertype', 'gender', 'birthyear']"
   ]
  },
  {
   "cell_type": "code",
   "execution_count": 18,
   "metadata": {},
   "outputs": [
    {
     "data": {
      "text/plain": [
       "[['trip_id',\n",
       "  'start_time',\n",
       "  'end_time',\n",
       "  'bikeid',\n",
       "  'tripduration',\n",
       "  'from_station_id',\n",
       "  'from_station_name',\n",
       "  'to_station_id',\n",
       "  'to_station_name',\n",
       "  'usertype',\n",
       "  'gender',\n",
       "  'birthyear']]"
      ]
     },
     "execution_count": 18,
     "metadata": {},
     "output_type": "execute_result"
    }
   ],
   "source": [
    "col_name = []\n",
    "for k in df_dict.keys():\n",
    "    col_name.append(list(df_dict[k].columns))\n",
    "[list(x) for x in set(tuple(x) for x in col_name)]"
   ]
  },
  {
   "cell_type": "code",
   "execution_count": 51,
   "metadata": {},
   "outputs": [
    {
     "data": {
      "text/html": [
       "<div>\n",
       "<style scoped>\n",
       "    .dataframe tbody tr th:only-of-type {\n",
       "        vertical-align: middle;\n",
       "    }\n",
       "\n",
       "    .dataframe tbody tr th {\n",
       "        vertical-align: top;\n",
       "    }\n",
       "\n",
       "    .dataframe thead th {\n",
       "        text-align: right;\n",
       "    }\n",
       "</style>\n",
       "<table border=\"1\" class=\"dataframe\">\n",
       "  <thead>\n",
       "    <tr style=\"text-align: right;\">\n",
       "      <th></th>\n",
       "      <th>trip_id</th>\n",
       "      <th>start_time</th>\n",
       "      <th>end_time</th>\n",
       "      <th>bikeid</th>\n",
       "      <th>tripduration</th>\n",
       "      <th>from_station_id</th>\n",
       "      <th>from_station_name</th>\n",
       "      <th>to_station_id</th>\n",
       "      <th>to_station_name</th>\n",
       "      <th>usertype</th>\n",
       "      <th>gender</th>\n",
       "      <th>birthyear</th>\n",
       "    </tr>\n",
       "  </thead>\n",
       "  <tbody>\n",
       "    <tr>\n",
       "      <th>0</th>\n",
       "      <td>17536702</td>\n",
       "      <td>2018-01-01 00:12:00</td>\n",
       "      <td>2018-01-01 00:17:23</td>\n",
       "      <td>3304</td>\n",
       "      <td>323.0</td>\n",
       "      <td>69</td>\n",
       "      <td>Damen Ave &amp; Pierce Ave</td>\n",
       "      <td>159</td>\n",
       "      <td>Claremont Ave &amp; Hirsch St</td>\n",
       "      <td>Subscriber</td>\n",
       "      <td>Male</td>\n",
       "      <td>1988.0</td>\n",
       "    </tr>\n",
       "    <tr>\n",
       "      <th>1</th>\n",
       "      <td>17536703</td>\n",
       "      <td>2018-01-01 00:41:35</td>\n",
       "      <td>2018-01-01 00:47:52</td>\n",
       "      <td>5367</td>\n",
       "      <td>377.0</td>\n",
       "      <td>253</td>\n",
       "      <td>Winthrop Ave &amp; Lawrence Ave</td>\n",
       "      <td>325</td>\n",
       "      <td>Clark St &amp; Winnemac Ave (Temp)</td>\n",
       "      <td>Subscriber</td>\n",
       "      <td>Male</td>\n",
       "      <td>1984.0</td>\n",
       "    </tr>\n",
       "    <tr>\n",
       "      <th>2</th>\n",
       "      <td>17536704</td>\n",
       "      <td>2018-01-01 00:44:46</td>\n",
       "      <td>2018-01-01 01:33:10</td>\n",
       "      <td>4599</td>\n",
       "      <td>2,904.0</td>\n",
       "      <td>98</td>\n",
       "      <td>LaSalle St &amp; Washington St</td>\n",
       "      <td>509</td>\n",
       "      <td>Troy St &amp; North Ave</td>\n",
       "      <td>Subscriber</td>\n",
       "      <td>Male</td>\n",
       "      <td>1989.0</td>\n",
       "    </tr>\n",
       "    <tr>\n",
       "      <th>3</th>\n",
       "      <td>17536705</td>\n",
       "      <td>2018-01-01 00:53:10</td>\n",
       "      <td>2018-01-01 01:05:37</td>\n",
       "      <td>2302</td>\n",
       "      <td>747.0</td>\n",
       "      <td>125</td>\n",
       "      <td>Rush St &amp; Hubbard St</td>\n",
       "      <td>364</td>\n",
       "      <td>Larrabee St &amp; Oak St</td>\n",
       "      <td>Subscriber</td>\n",
       "      <td>Male</td>\n",
       "      <td>1983.0</td>\n",
       "    </tr>\n",
       "    <tr>\n",
       "      <th>4</th>\n",
       "      <td>17536706</td>\n",
       "      <td>2018-01-01 00:53:37</td>\n",
       "      <td>2018-01-01 00:56:40</td>\n",
       "      <td>3696</td>\n",
       "      <td>183.0</td>\n",
       "      <td>129</td>\n",
       "      <td>Blue Island Ave &amp; 18th St</td>\n",
       "      <td>205</td>\n",
       "      <td>Paulina St &amp; 18th St</td>\n",
       "      <td>Subscriber</td>\n",
       "      <td>Male</td>\n",
       "      <td>1989.0</td>\n",
       "    </tr>\n",
       "  </tbody>\n",
       "</table>\n",
       "</div>"
      ],
      "text/plain": [
       "    trip_id           start_time             end_time  bikeid tripduration  \\\n",
       "0  17536702  2018-01-01 00:12:00  2018-01-01 00:17:23    3304        323.0   \n",
       "1  17536703  2018-01-01 00:41:35  2018-01-01 00:47:52    5367        377.0   \n",
       "2  17536704  2018-01-01 00:44:46  2018-01-01 01:33:10    4599      2,904.0   \n",
       "3  17536705  2018-01-01 00:53:10  2018-01-01 01:05:37    2302        747.0   \n",
       "4  17536706  2018-01-01 00:53:37  2018-01-01 00:56:40    3696        183.0   \n",
       "\n",
       "   from_station_id            from_station_name  to_station_id  \\\n",
       "0               69       Damen Ave & Pierce Ave            159   \n",
       "1              253  Winthrop Ave & Lawrence Ave            325   \n",
       "2               98   LaSalle St & Washington St            509   \n",
       "3              125         Rush St & Hubbard St            364   \n",
       "4              129    Blue Island Ave & 18th St            205   \n",
       "\n",
       "                  to_station_name    usertype gender  birthyear  \n",
       "0       Claremont Ave & Hirsch St  Subscriber   Male     1988.0  \n",
       "1  Clark St & Winnemac Ave (Temp)  Subscriber   Male     1984.0  \n",
       "2             Troy St & North Ave  Subscriber   Male     1989.0  \n",
       "3            Larrabee St & Oak St  Subscriber   Male     1983.0  \n",
       "4            Paulina St & 18th St  Subscriber   Male     1989.0  "
      ]
     },
     "execution_count": 51,
     "metadata": {},
     "output_type": "execute_result"
    }
   ],
   "source": [
    "trips_2018 = pd.DataFrame()\n",
    "for q in range(1, 5):\n",
    "    trips_2018 = pd.concat([trips_2018, df_dict[f'Divvy_Trips_2018_Q{q}.csv']])"
   ]
  },
  {
   "cell_type": "code",
   "execution_count": 52,
   "metadata": {},
   "outputs": [],
   "source": [
    "trips_2018.loc[:, 'tripduration'] = pd.to_numeric(trips_2018['tripduration'].replace(',','', regex=True))"
   ]
  },
  {
   "cell_type": "code",
   "execution_count": 54,
   "metadata": {},
   "outputs": [
    {
     "data": {
      "text/html": [
       "<div>\n",
       "<style scoped>\n",
       "    .dataframe tbody tr th:only-of-type {\n",
       "        vertical-align: middle;\n",
       "    }\n",
       "\n",
       "    .dataframe tbody tr th {\n",
       "        vertical-align: top;\n",
       "    }\n",
       "\n",
       "    .dataframe thead th {\n",
       "        text-align: right;\n",
       "    }\n",
       "</style>\n",
       "<table border=\"1\" class=\"dataframe\">\n",
       "  <thead>\n",
       "    <tr style=\"text-align: right;\">\n",
       "      <th></th>\n",
       "      <th>trip_id</th>\n",
       "      <th>start_time</th>\n",
       "      <th>end_time</th>\n",
       "      <th>bikeid</th>\n",
       "      <th>tripduration</th>\n",
       "      <th>from_station_id</th>\n",
       "      <th>from_station_name</th>\n",
       "      <th>to_station_id</th>\n",
       "      <th>to_station_name</th>\n",
       "      <th>usertype</th>\n",
       "      <th>gender</th>\n",
       "      <th>birthyear</th>\n",
       "    </tr>\n",
       "  </thead>\n",
       "  <tbody>\n",
       "    <tr>\n",
       "      <th>0</th>\n",
       "      <td>17536702</td>\n",
       "      <td>2018-01-01 00:12:00</td>\n",
       "      <td>2018-01-01 00:17:23</td>\n",
       "      <td>3304</td>\n",
       "      <td>323.0</td>\n",
       "      <td>69</td>\n",
       "      <td>Damen Ave &amp; Pierce Ave</td>\n",
       "      <td>159</td>\n",
       "      <td>Claremont Ave &amp; Hirsch St</td>\n",
       "      <td>Subscriber</td>\n",
       "      <td>Male</td>\n",
       "      <td>1988.0</td>\n",
       "    </tr>\n",
       "    <tr>\n",
       "      <th>1</th>\n",
       "      <td>17536703</td>\n",
       "      <td>2018-01-01 00:41:35</td>\n",
       "      <td>2018-01-01 00:47:52</td>\n",
       "      <td>5367</td>\n",
       "      <td>377.0</td>\n",
       "      <td>253</td>\n",
       "      <td>Winthrop Ave &amp; Lawrence Ave</td>\n",
       "      <td>325</td>\n",
       "      <td>Clark St &amp; Winnemac Ave (Temp)</td>\n",
       "      <td>Subscriber</td>\n",
       "      <td>Male</td>\n",
       "      <td>1984.0</td>\n",
       "    </tr>\n",
       "    <tr>\n",
       "      <th>2</th>\n",
       "      <td>17536704</td>\n",
       "      <td>2018-01-01 00:44:46</td>\n",
       "      <td>2018-01-01 01:33:10</td>\n",
       "      <td>4599</td>\n",
       "      <td>2904.0</td>\n",
       "      <td>98</td>\n",
       "      <td>LaSalle St &amp; Washington St</td>\n",
       "      <td>509</td>\n",
       "      <td>Troy St &amp; North Ave</td>\n",
       "      <td>Subscriber</td>\n",
       "      <td>Male</td>\n",
       "      <td>1989.0</td>\n",
       "    </tr>\n",
       "    <tr>\n",
       "      <th>3</th>\n",
       "      <td>17536705</td>\n",
       "      <td>2018-01-01 00:53:10</td>\n",
       "      <td>2018-01-01 01:05:37</td>\n",
       "      <td>2302</td>\n",
       "      <td>747.0</td>\n",
       "      <td>125</td>\n",
       "      <td>Rush St &amp; Hubbard St</td>\n",
       "      <td>364</td>\n",
       "      <td>Larrabee St &amp; Oak St</td>\n",
       "      <td>Subscriber</td>\n",
       "      <td>Male</td>\n",
       "      <td>1983.0</td>\n",
       "    </tr>\n",
       "    <tr>\n",
       "      <th>4</th>\n",
       "      <td>17536706</td>\n",
       "      <td>2018-01-01 00:53:37</td>\n",
       "      <td>2018-01-01 00:56:40</td>\n",
       "      <td>3696</td>\n",
       "      <td>183.0</td>\n",
       "      <td>129</td>\n",
       "      <td>Blue Island Ave &amp; 18th St</td>\n",
       "      <td>205</td>\n",
       "      <td>Paulina St &amp; 18th St</td>\n",
       "      <td>Subscriber</td>\n",
       "      <td>Male</td>\n",
       "      <td>1989.0</td>\n",
       "    </tr>\n",
       "  </tbody>\n",
       "</table>\n",
       "</div>"
      ],
      "text/plain": [
       "    trip_id           start_time             end_time  bikeid  tripduration  \\\n",
       "0  17536702  2018-01-01 00:12:00  2018-01-01 00:17:23    3304         323.0   \n",
       "1  17536703  2018-01-01 00:41:35  2018-01-01 00:47:52    5367         377.0   \n",
       "2  17536704  2018-01-01 00:44:46  2018-01-01 01:33:10    4599        2904.0   \n",
       "3  17536705  2018-01-01 00:53:10  2018-01-01 01:05:37    2302         747.0   \n",
       "4  17536706  2018-01-01 00:53:37  2018-01-01 00:56:40    3696         183.0   \n",
       "\n",
       "   from_station_id            from_station_name  to_station_id  \\\n",
       "0               69       Damen Ave & Pierce Ave            159   \n",
       "1              253  Winthrop Ave & Lawrence Ave            325   \n",
       "2               98   LaSalle St & Washington St            509   \n",
       "3              125         Rush St & Hubbard St            364   \n",
       "4              129    Blue Island Ave & 18th St            205   \n",
       "\n",
       "                  to_station_name    usertype gender  birthyear  \n",
       "0       Claremont Ave & Hirsch St  Subscriber   Male     1988.0  \n",
       "1  Clark St & Winnemac Ave (Temp)  Subscriber   Male     1984.0  \n",
       "2             Troy St & North Ave  Subscriber   Male     1989.0  \n",
       "3            Larrabee St & Oak St  Subscriber   Male     1983.0  \n",
       "4            Paulina St & 18th St  Subscriber   Male     1989.0  "
      ]
     },
     "execution_count": 54,
     "metadata": {},
     "output_type": "execute_result"
    }
   ],
   "source": [
    "trips_2018.head(5)"
   ]
  },
  {
   "cell_type": "code",
   "execution_count": 53,
   "metadata": {},
   "outputs": [
    {
     "data": {
      "text/html": [
       "<div>\n",
       "<style scoped>\n",
       "    .dataframe tbody tr th:only-of-type {\n",
       "        vertical-align: middle;\n",
       "    }\n",
       "\n",
       "    .dataframe tbody tr th {\n",
       "        vertical-align: top;\n",
       "    }\n",
       "\n",
       "    .dataframe thead th {\n",
       "        text-align: right;\n",
       "    }\n",
       "</style>\n",
       "<table border=\"1\" class=\"dataframe\">\n",
       "  <thead>\n",
       "    <tr style=\"text-align: right;\">\n",
       "      <th></th>\n",
       "      <th>trip_id</th>\n",
       "      <th>start_time</th>\n",
       "      <th>end_time</th>\n",
       "      <th>bikeid</th>\n",
       "      <th>tripduration</th>\n",
       "      <th>from_station_id</th>\n",
       "      <th>from_station_name</th>\n",
       "      <th>to_station_id</th>\n",
       "      <th>to_station_name</th>\n",
       "      <th>usertype</th>\n",
       "      <th>gender</th>\n",
       "      <th>birthyear</th>\n",
       "    </tr>\n",
       "  </thead>\n",
       "  <tbody>\n",
       "    <tr>\n",
       "      <th>642681</th>\n",
       "      <td>21742438</td>\n",
       "      <td>2018-12-31 23:45:17</td>\n",
       "      <td>2018-12-31 23:50:05</td>\n",
       "      <td>2931</td>\n",
       "      <td>288.0</td>\n",
       "      <td>49</td>\n",
       "      <td>Dearborn St &amp; Monroe St</td>\n",
       "      <td>164</td>\n",
       "      <td>Franklin St &amp; Lake St</td>\n",
       "      <td>Subscriber</td>\n",
       "      <td>Female</td>\n",
       "      <td>1983.0</td>\n",
       "    </tr>\n",
       "    <tr>\n",
       "      <th>642682</th>\n",
       "      <td>21742439</td>\n",
       "      <td>2018-12-31 23:48:48</td>\n",
       "      <td>2018-12-31 23:57:22</td>\n",
       "      <td>4386</td>\n",
       "      <td>514.0</td>\n",
       "      <td>624</td>\n",
       "      <td>Dearborn St &amp; Van Buren St (*)</td>\n",
       "      <td>44</td>\n",
       "      <td>State St &amp; Randolph St</td>\n",
       "      <td>Subscriber</td>\n",
       "      <td>Female</td>\n",
       "      <td>1990.0</td>\n",
       "    </tr>\n",
       "    <tr>\n",
       "      <th>642683</th>\n",
       "      <td>21742440</td>\n",
       "      <td>2018-12-31 23:50:09</td>\n",
       "      <td>2018-12-31 23:57:16</td>\n",
       "      <td>4927</td>\n",
       "      <td>427.0</td>\n",
       "      <td>41</td>\n",
       "      <td>Federal St &amp; Polk St</td>\n",
       "      <td>52</td>\n",
       "      <td>Michigan Ave &amp; Lake St</td>\n",
       "      <td>Subscriber</td>\n",
       "      <td>Female</td>\n",
       "      <td>1995.0</td>\n",
       "    </tr>\n",
       "    <tr>\n",
       "      <th>642684</th>\n",
       "      <td>21742441</td>\n",
       "      <td>2018-12-31 23:55:04</td>\n",
       "      <td>2018-12-31 23:58:24</td>\n",
       "      <td>1350</td>\n",
       "      <td>200.0</td>\n",
       "      <td>141</td>\n",
       "      <td>Clark St &amp; Lincoln Ave</td>\n",
       "      <td>118</td>\n",
       "      <td>Sedgwick St &amp; North Ave</td>\n",
       "      <td>Subscriber</td>\n",
       "      <td>Male</td>\n",
       "      <td>1999.0</td>\n",
       "    </tr>\n",
       "    <tr>\n",
       "      <th>642685</th>\n",
       "      <td>21742442</td>\n",
       "      <td>2018-12-31 23:59:18</td>\n",
       "      <td>2019-01-01 00:20:43</td>\n",
       "      <td>2006</td>\n",
       "      <td>1285.0</td>\n",
       "      <td>260</td>\n",
       "      <td>Kedzie Ave &amp; Milwaukee Ave</td>\n",
       "      <td>166</td>\n",
       "      <td>Ashland Ave &amp; Wrightwood Ave</td>\n",
       "      <td>Subscriber</td>\n",
       "      <td>Male</td>\n",
       "      <td>1990.0</td>\n",
       "    </tr>\n",
       "  </tbody>\n",
       "</table>\n",
       "</div>"
      ],
      "text/plain": [
       "         trip_id           start_time             end_time  bikeid  \\\n",
       "642681  21742438  2018-12-31 23:45:17  2018-12-31 23:50:05    2931   \n",
       "642682  21742439  2018-12-31 23:48:48  2018-12-31 23:57:22    4386   \n",
       "642683  21742440  2018-12-31 23:50:09  2018-12-31 23:57:16    4927   \n",
       "642684  21742441  2018-12-31 23:55:04  2018-12-31 23:58:24    1350   \n",
       "642685  21742442  2018-12-31 23:59:18  2019-01-01 00:20:43    2006   \n",
       "\n",
       "        tripduration  from_station_id               from_station_name  \\\n",
       "642681         288.0               49         Dearborn St & Monroe St   \n",
       "642682         514.0              624  Dearborn St & Van Buren St (*)   \n",
       "642683         427.0               41            Federal St & Polk St   \n",
       "642684         200.0              141          Clark St & Lincoln Ave   \n",
       "642685        1285.0              260      Kedzie Ave & Milwaukee Ave   \n",
       "\n",
       "        to_station_id               to_station_name    usertype  gender  \\\n",
       "642681            164         Franklin St & Lake St  Subscriber  Female   \n",
       "642682             44        State St & Randolph St  Subscriber  Female   \n",
       "642683             52        Michigan Ave & Lake St  Subscriber  Female   \n",
       "642684            118       Sedgwick St & North Ave  Subscriber    Male   \n",
       "642685            166  Ashland Ave & Wrightwood Ave  Subscriber    Male   \n",
       "\n",
       "        birthyear  \n",
       "642681     1983.0  \n",
       "642682     1990.0  \n",
       "642683     1995.0  \n",
       "642684     1999.0  \n",
       "642685     1990.0  "
      ]
     },
     "execution_count": 53,
     "metadata": {},
     "output_type": "execute_result"
    }
   ],
   "source": [
    "trips_2018.tail(5)"
   ]
  },
  {
   "cell_type": "code",
   "execution_count": 55,
   "metadata": {},
   "outputs": [],
   "source": [
    "trips_2019 = pd.DataFrame()\n",
    "for q in range(1, 5):\n",
    "    trips_2019 = pd.concat([trips_2019, df_dict[f'Divvy_Trips_2019_Q{q}.csv']])"
   ]
  },
  {
   "cell_type": "code",
   "execution_count": 56,
   "metadata": {},
   "outputs": [],
   "source": [
    "trips_2019.loc[:, 'tripduration'] = pd.to_numeric(trips_2019['tripduration'].replace(',','', regex=True))"
   ]
  },
  {
   "cell_type": "code",
   "execution_count": 57,
   "metadata": {},
   "outputs": [
    {
     "data": {
      "text/html": [
       "<div>\n",
       "<style scoped>\n",
       "    .dataframe tbody tr th:only-of-type {\n",
       "        vertical-align: middle;\n",
       "    }\n",
       "\n",
       "    .dataframe tbody tr th {\n",
       "        vertical-align: top;\n",
       "    }\n",
       "\n",
       "    .dataframe thead th {\n",
       "        text-align: right;\n",
       "    }\n",
       "</style>\n",
       "<table border=\"1\" class=\"dataframe\">\n",
       "  <thead>\n",
       "    <tr style=\"text-align: right;\">\n",
       "      <th></th>\n",
       "      <th>trip_id</th>\n",
       "      <th>start_time</th>\n",
       "      <th>end_time</th>\n",
       "      <th>bikeid</th>\n",
       "      <th>tripduration</th>\n",
       "      <th>from_station_id</th>\n",
       "      <th>from_station_name</th>\n",
       "      <th>to_station_id</th>\n",
       "      <th>to_station_name</th>\n",
       "      <th>usertype</th>\n",
       "      <th>gender</th>\n",
       "      <th>birthyear</th>\n",
       "    </tr>\n",
       "  </thead>\n",
       "  <tbody>\n",
       "    <tr>\n",
       "      <th>0</th>\n",
       "      <td>21742443</td>\n",
       "      <td>2019-01-01 00:04:37</td>\n",
       "      <td>2019-01-01 00:11:07</td>\n",
       "      <td>2167</td>\n",
       "      <td>390.0</td>\n",
       "      <td>199</td>\n",
       "      <td>Wabash Ave &amp; Grand Ave</td>\n",
       "      <td>84</td>\n",
       "      <td>Milwaukee Ave &amp; Grand Ave</td>\n",
       "      <td>Subscriber</td>\n",
       "      <td>Male</td>\n",
       "      <td>1989.0</td>\n",
       "    </tr>\n",
       "    <tr>\n",
       "      <th>1</th>\n",
       "      <td>21742444</td>\n",
       "      <td>2019-01-01 00:08:13</td>\n",
       "      <td>2019-01-01 00:15:34</td>\n",
       "      <td>4386</td>\n",
       "      <td>441.0</td>\n",
       "      <td>44</td>\n",
       "      <td>State St &amp; Randolph St</td>\n",
       "      <td>624</td>\n",
       "      <td>Dearborn St &amp; Van Buren St (*)</td>\n",
       "      <td>Subscriber</td>\n",
       "      <td>Female</td>\n",
       "      <td>1990.0</td>\n",
       "    </tr>\n",
       "    <tr>\n",
       "      <th>2</th>\n",
       "      <td>21742445</td>\n",
       "      <td>2019-01-01 00:13:23</td>\n",
       "      <td>2019-01-01 00:27:12</td>\n",
       "      <td>1524</td>\n",
       "      <td>829.0</td>\n",
       "      <td>15</td>\n",
       "      <td>Racine Ave &amp; 18th St</td>\n",
       "      <td>644</td>\n",
       "      <td>Western Ave &amp; Fillmore St (*)</td>\n",
       "      <td>Subscriber</td>\n",
       "      <td>Female</td>\n",
       "      <td>1994.0</td>\n",
       "    </tr>\n",
       "    <tr>\n",
       "      <th>3</th>\n",
       "      <td>21742446</td>\n",
       "      <td>2019-01-01 00:13:45</td>\n",
       "      <td>2019-01-01 00:43:28</td>\n",
       "      <td>252</td>\n",
       "      <td>1783.0</td>\n",
       "      <td>123</td>\n",
       "      <td>California Ave &amp; Milwaukee Ave</td>\n",
       "      <td>176</td>\n",
       "      <td>Clark St &amp; Elm St</td>\n",
       "      <td>Subscriber</td>\n",
       "      <td>Male</td>\n",
       "      <td>1993.0</td>\n",
       "    </tr>\n",
       "    <tr>\n",
       "      <th>4</th>\n",
       "      <td>21742447</td>\n",
       "      <td>2019-01-01 00:14:52</td>\n",
       "      <td>2019-01-01 00:20:56</td>\n",
       "      <td>1170</td>\n",
       "      <td>364.0</td>\n",
       "      <td>173</td>\n",
       "      <td>Mies van der Rohe Way &amp; Chicago Ave</td>\n",
       "      <td>35</td>\n",
       "      <td>Streeter Dr &amp; Grand Ave</td>\n",
       "      <td>Subscriber</td>\n",
       "      <td>Male</td>\n",
       "      <td>1994.0</td>\n",
       "    </tr>\n",
       "  </tbody>\n",
       "</table>\n",
       "</div>"
      ],
      "text/plain": [
       "    trip_id           start_time             end_time  bikeid  tripduration  \\\n",
       "0  21742443  2019-01-01 00:04:37  2019-01-01 00:11:07    2167         390.0   \n",
       "1  21742444  2019-01-01 00:08:13  2019-01-01 00:15:34    4386         441.0   \n",
       "2  21742445  2019-01-01 00:13:23  2019-01-01 00:27:12    1524         829.0   \n",
       "3  21742446  2019-01-01 00:13:45  2019-01-01 00:43:28     252        1783.0   \n",
       "4  21742447  2019-01-01 00:14:52  2019-01-01 00:20:56    1170         364.0   \n",
       "\n",
       "   from_station_id                    from_station_name  to_station_id  \\\n",
       "0              199               Wabash Ave & Grand Ave             84   \n",
       "1               44               State St & Randolph St            624   \n",
       "2               15                 Racine Ave & 18th St            644   \n",
       "3              123       California Ave & Milwaukee Ave            176   \n",
       "4              173  Mies van der Rohe Way & Chicago Ave             35   \n",
       "\n",
       "                  to_station_name    usertype  gender  birthyear  \n",
       "0       Milwaukee Ave & Grand Ave  Subscriber    Male     1989.0  \n",
       "1  Dearborn St & Van Buren St (*)  Subscriber  Female     1990.0  \n",
       "2   Western Ave & Fillmore St (*)  Subscriber  Female     1994.0  \n",
       "3               Clark St & Elm St  Subscriber    Male     1993.0  \n",
       "4         Streeter Dr & Grand Ave  Subscriber    Male     1994.0  "
      ]
     },
     "execution_count": 57,
     "metadata": {},
     "output_type": "execute_result"
    }
   ],
   "source": [
    "trips_2019.head(5)"
   ]
  },
  {
   "cell_type": "code",
   "execution_count": 58,
   "metadata": {},
   "outputs": [
    {
     "data": {
      "text/html": [
       "<div>\n",
       "<style scoped>\n",
       "    .dataframe tbody tr th:only-of-type {\n",
       "        vertical-align: middle;\n",
       "    }\n",
       "\n",
       "    .dataframe tbody tr th {\n",
       "        vertical-align: top;\n",
       "    }\n",
       "\n",
       "    .dataframe thead th {\n",
       "        text-align: right;\n",
       "    }\n",
       "</style>\n",
       "<table border=\"1\" class=\"dataframe\">\n",
       "  <thead>\n",
       "    <tr style=\"text-align: right;\">\n",
       "      <th></th>\n",
       "      <th>trip_id</th>\n",
       "      <th>start_time</th>\n",
       "      <th>end_time</th>\n",
       "      <th>bikeid</th>\n",
       "      <th>tripduration</th>\n",
       "      <th>from_station_id</th>\n",
       "      <th>from_station_name</th>\n",
       "      <th>to_station_id</th>\n",
       "      <th>to_station_name</th>\n",
       "      <th>usertype</th>\n",
       "      <th>gender</th>\n",
       "      <th>birthyear</th>\n",
       "    </tr>\n",
       "  </thead>\n",
       "  <tbody>\n",
       "    <tr>\n",
       "      <th>704049</th>\n",
       "      <td>25962900</td>\n",
       "      <td>2019-12-31 23:56:13</td>\n",
       "      <td>2020-01-01 00:15:45</td>\n",
       "      <td>2196</td>\n",
       "      <td>1172.0</td>\n",
       "      <td>112</td>\n",
       "      <td>Green St &amp; Randolph St</td>\n",
       "      <td>225</td>\n",
       "      <td>Halsted St &amp; Dickens Ave</td>\n",
       "      <td>Subscriber</td>\n",
       "      <td>Male</td>\n",
       "      <td>1981.0</td>\n",
       "    </tr>\n",
       "    <tr>\n",
       "      <th>704050</th>\n",
       "      <td>25962901</td>\n",
       "      <td>2019-12-31 23:56:34</td>\n",
       "      <td>2020-01-01 00:22:08</td>\n",
       "      <td>4877</td>\n",
       "      <td>1533.0</td>\n",
       "      <td>90</td>\n",
       "      <td>Millennium Park</td>\n",
       "      <td>90</td>\n",
       "      <td>Millennium Park</td>\n",
       "      <td>Subscriber</td>\n",
       "      <td>Male</td>\n",
       "      <td>1992.0</td>\n",
       "    </tr>\n",
       "    <tr>\n",
       "      <th>704051</th>\n",
       "      <td>25962902</td>\n",
       "      <td>2019-12-31 23:57:05</td>\n",
       "      <td>2020-01-01 00:05:46</td>\n",
       "      <td>863</td>\n",
       "      <td>520.0</td>\n",
       "      <td>623</td>\n",
       "      <td>Michigan Ave &amp; 8th St</td>\n",
       "      <td>52</td>\n",
       "      <td>Michigan Ave &amp; Lake St</td>\n",
       "      <td>Subscriber</td>\n",
       "      <td>Male</td>\n",
       "      <td>1967.0</td>\n",
       "    </tr>\n",
       "    <tr>\n",
       "      <th>704052</th>\n",
       "      <td>25962903</td>\n",
       "      <td>2019-12-31 23:57:11</td>\n",
       "      <td>2020-01-01 00:05:45</td>\n",
       "      <td>2637</td>\n",
       "      <td>514.0</td>\n",
       "      <td>623</td>\n",
       "      <td>Michigan Ave &amp; 8th St</td>\n",
       "      <td>52</td>\n",
       "      <td>Michigan Ave &amp; Lake St</td>\n",
       "      <td>Subscriber</td>\n",
       "      <td>Female</td>\n",
       "      <td>1970.0</td>\n",
       "    </tr>\n",
       "    <tr>\n",
       "      <th>704053</th>\n",
       "      <td>25962904</td>\n",
       "      <td>2019-12-31 23:57:17</td>\n",
       "      <td>2019-12-31 23:59:18</td>\n",
       "      <td>5930</td>\n",
       "      <td>120.0</td>\n",
       "      <td>256</td>\n",
       "      <td>Broadway &amp; Sheridan Rd</td>\n",
       "      <td>240</td>\n",
       "      <td>Sheridan Rd &amp; Irving Park Rd</td>\n",
       "      <td>Subscriber</td>\n",
       "      <td>Male</td>\n",
       "      <td>1982.0</td>\n",
       "    </tr>\n",
       "  </tbody>\n",
       "</table>\n",
       "</div>"
      ],
      "text/plain": [
       "         trip_id           start_time             end_time  bikeid  \\\n",
       "704049  25962900  2019-12-31 23:56:13  2020-01-01 00:15:45    2196   \n",
       "704050  25962901  2019-12-31 23:56:34  2020-01-01 00:22:08    4877   \n",
       "704051  25962902  2019-12-31 23:57:05  2020-01-01 00:05:46     863   \n",
       "704052  25962903  2019-12-31 23:57:11  2020-01-01 00:05:45    2637   \n",
       "704053  25962904  2019-12-31 23:57:17  2019-12-31 23:59:18    5930   \n",
       "\n",
       "        tripduration  from_station_id       from_station_name  to_station_id  \\\n",
       "704049        1172.0              112  Green St & Randolph St            225   \n",
       "704050        1533.0               90         Millennium Park             90   \n",
       "704051         520.0              623   Michigan Ave & 8th St             52   \n",
       "704052         514.0              623   Michigan Ave & 8th St             52   \n",
       "704053         120.0              256  Broadway & Sheridan Rd            240   \n",
       "\n",
       "                     to_station_name    usertype  gender  birthyear  \n",
       "704049      Halsted St & Dickens Ave  Subscriber    Male     1981.0  \n",
       "704050               Millennium Park  Subscriber    Male     1992.0  \n",
       "704051        Michigan Ave & Lake St  Subscriber    Male     1967.0  \n",
       "704052        Michigan Ave & Lake St  Subscriber  Female     1970.0  \n",
       "704053  Sheridan Rd & Irving Park Rd  Subscriber    Male     1982.0  "
      ]
     },
     "execution_count": 58,
     "metadata": {},
     "output_type": "execute_result"
    }
   ],
   "source": [
    "trips_2019.tail(5)"
   ]
  },
  {
   "cell_type": "code",
   "execution_count": 59,
   "metadata": {},
   "outputs": [
    {
     "data": {
      "text/plain": [
       "dtype('float64')"
      ]
     },
     "execution_count": 59,
     "metadata": {},
     "output_type": "execute_result"
    }
   ],
   "source": [
    "trips_2018['tripduration'].dtype"
   ]
  },
  {
   "cell_type": "code",
   "execution_count": 60,
   "metadata": {},
   "outputs": [],
   "source": [
    "trips_2018.to_csv('trips_2018.csv', index = False)\n",
    "trips_2019.to_csv('trips_2019.csv', index = False)"
   ]
  },
  {
   "attachments": {},
   "cell_type": "markdown",
   "metadata": {},
   "source": [
    "# 2013-2017"
   ]
  },
  {
   "attachments": {},
   "cell_type": "markdown",
   "metadata": {},
   "source": [
    "## Standardizing names"
   ]
  },
  {
   "cell_type": "code",
   "execution_count": 74,
   "metadata": {},
   "outputs": [],
   "source": [
    "# get col names of all csv\n",
    "path = 'trips'\n",
    "csv_files = glob.glob(os.path.join(path, \"*.csv\"))\n",
    "col_names_dict = {}\n",
    "for f in csv_files:\n",
    "    col_names_dict[f] = pd.read_csv(f, nrows=0).columns.tolist()"
   ]
  },
  {
   "cell_type": "code",
   "execution_count": 75,
   "metadata": {},
   "outputs": [
    {
     "data": {
      "text/plain": [
       "['trips\\\\Divvy_Trips_2013.csv',\n",
       " 'trips\\\\Divvy_Trips_2014-Q3-07.csv',\n",
       " 'trips\\\\Divvy_Trips_2014-Q3-0809.csv',\n",
       " 'trips\\\\Divvy_Trips_2014-Q4.csv',\n",
       " 'trips\\\\Divvy_Trips_2014_Q1Q2.csv',\n",
       " 'trips\\\\Divvy_Trips_2015-Q1.csv',\n",
       " 'trips\\\\Divvy_Trips_2015-Q2.csv',\n",
       " 'trips\\\\Divvy_Trips_2015_07.csv',\n",
       " 'trips\\\\Divvy_Trips_2015_08.csv',\n",
       " 'trips\\\\Divvy_Trips_2015_09.csv',\n",
       " 'trips\\\\Divvy_Trips_2015_Q4.csv',\n",
       " 'trips\\\\Divvy_Trips_2016_04.csv',\n",
       " 'trips\\\\Divvy_Trips_2016_05.csv',\n",
       " 'trips\\\\Divvy_Trips_2016_06.csv',\n",
       " 'trips\\\\Divvy_Trips_2016_Q1.csv',\n",
       " 'trips\\\\Divvy_Trips_2016_Q3.csv',\n",
       " 'trips\\\\Divvy_Trips_2016_Q4.csv',\n",
       " 'trips\\\\Divvy_Trips_2017_Q1.csv',\n",
       " 'trips\\\\Divvy_Trips_2017_Q2.csv',\n",
       " 'trips\\\\Divvy_Trips_2017_Q3.csv',\n",
       " 'trips\\\\Divvy_Trips_2017_Q4.csv']"
      ]
     },
     "execution_count": 75,
     "metadata": {},
     "output_type": "execute_result"
    }
   ],
   "source": [
    "csv_files"
   ]
  },
  {
   "cell_type": "code",
   "execution_count": 79,
   "metadata": {},
   "outputs": [
    {
     "data": {
      "text/plain": [
       "[['trip_id',\n",
       "  'starttime',\n",
       "  'stoptime',\n",
       "  'bikeid',\n",
       "  'tripduration',\n",
       "  'from_station_id',\n",
       "  'from_station_name',\n",
       "  'to_station_id',\n",
       "  'to_station_name',\n",
       "  'usertype',\n",
       "  'gender',\n",
       "  'birthday'],\n",
       " ['trip_id',\n",
       "  'starttime',\n",
       "  'stoptime',\n",
       "  'bikeid',\n",
       "  'tripduration',\n",
       "  'from_station_id',\n",
       "  'from_station_name',\n",
       "  'to_station_id',\n",
       "  'to_station_name',\n",
       "  'usertype',\n",
       "  'gender',\n",
       "  'birthyear'],\n",
       " ['trip_id',\n",
       "  'start_time',\n",
       "  'end_time',\n",
       "  'bikeid',\n",
       "  'tripduration',\n",
       "  'from_station_id',\n",
       "  'from_station_name',\n",
       "  'to_station_id',\n",
       "  'to_station_name',\n",
       "  'usertype',\n",
       "  'gender',\n",
       "  'birthyear']]"
      ]
     },
     "execution_count": 79,
     "metadata": {},
     "output_type": "execute_result"
    }
   ],
   "source": [
    "c = list(col_names_dict.values())\n",
    "\n",
    "[list(x) for x in set(tuple(x) for x in c)]"
   ]
  },
  {
   "cell_type": "code",
   "execution_count": 83,
   "metadata": {},
   "outputs": [
    {
     "name": "stderr",
     "output_type": "stream",
     "text": [
      "C:\\Users\\henry\\AppData\\Roaming\\Python\\Python38\\site-packages\\IPython\\core\\interactiveshell.py:3139: DtypeWarning: Columns (10) have mixed types.Specify dtype option on import or set low_memory=False.\n",
      "  has_raised = await self.run_ast_nodes(code_ast.body, cell_name,\n"
     ]
    }
   ],
   "source": [
    "standard_names = ['trip_id',\n",
    "  'start_time',\n",
    "  'end_time',\n",
    "  'bikeid',\n",
    "  'tripduration',\n",
    "  'from_station_id',\n",
    "  'from_station_name',\n",
    "  'to_station_id',\n",
    "  'to_station_name',\n",
    "  'usertype',\n",
    "  'gender',\n",
    "  'birthyear']\n",
    "\n",
    "path = 'trips'\n",
    "csv_files = glob.glob(os.path.join(path, \"*.csv\"))\n",
    "out_dict = {}\n",
    "for f in csv_files:\n",
    "    name = f.split(\"\\\\\")[-1]\n",
    "    out_dict[f.split(\"\\\\\")[-1]] = pd.read_csv(f)\n",
    "    out_dict[f.split(\"\\\\\")[-1]].columns = standard_names\n",
    "    out_dict[f.split(\"\\\\\")[-1]].to_csv(f'{name}_standard.csv', index = False)\n"
   ]
  },
  {
   "cell_type": "code",
   "execution_count": 84,
   "metadata": {},
   "outputs": [
    {
     "data": {
      "text/plain": [
       "['trips\\\\Divvy_Trips_2013.csv',\n",
       " 'trips\\\\Divvy_Trips_2014-Q3-07.csv',\n",
       " 'trips\\\\Divvy_Trips_2014-Q3-0809.csv',\n",
       " 'trips\\\\Divvy_Trips_2014-Q4.csv',\n",
       " 'trips\\\\Divvy_Trips_2014_Q1Q2.csv',\n",
       " 'trips\\\\Divvy_Trips_2015-Q1.csv',\n",
       " 'trips\\\\Divvy_Trips_2015-Q2.csv',\n",
       " 'trips\\\\Divvy_Trips_2015_07.csv',\n",
       " 'trips\\\\Divvy_Trips_2015_08.csv',\n",
       " 'trips\\\\Divvy_Trips_2015_09.csv',\n",
       " 'trips\\\\Divvy_Trips_2015_Q4.csv',\n",
       " 'trips\\\\Divvy_Trips_2016_04.csv',\n",
       " 'trips\\\\Divvy_Trips_2016_05.csv',\n",
       " 'trips\\\\Divvy_Trips_2016_06.csv',\n",
       " 'trips\\\\Divvy_Trips_2016_Q1.csv',\n",
       " 'trips\\\\Divvy_Trips_2016_Q3.csv',\n",
       " 'trips\\\\Divvy_Trips_2016_Q4.csv',\n",
       " 'trips\\\\Divvy_Trips_2017_Q1.csv',\n",
       " 'trips\\\\Divvy_Trips_2017_Q2.csv',\n",
       " 'trips\\\\Divvy_Trips_2017_Q3.csv',\n",
       " 'trips\\\\Divvy_Trips_2017_Q4.csv']"
      ]
     },
     "execution_count": 84,
     "metadata": {},
     "output_type": "execute_result"
    }
   ],
   "source": [
    "csv_files"
   ]
  },
  {
   "cell_type": "code",
   "execution_count": 85,
   "metadata": {},
   "outputs": [
    {
     "name": "stderr",
     "output_type": "stream",
     "text": [
      "C:\\Users\\henry\\AppData\\Roaming\\Python\\Python38\\site-packages\\IPython\\core\\interactiveshell.py:3139: DtypeWarning: Columns (10) have mixed types.Specify dtype option on import or set low_memory=False.\n",
      "  has_raised = await self.run_ast_nodes(code_ast.body, cell_name,\n"
     ]
    }
   ],
   "source": [
    "path = 'all_trips'\n",
    "csv_files = glob.glob(os.path.join(path, \"*.csv\"))\n",
    "final_df_full = pd.DataFrame()\n",
    "for f in csv_files:\n",
    "    curr = pd.read_csv(f)\n",
    "    final_df_full = pd.concat([final_df_full, curr])\n",
    "    # out_dict[f.split(\"\\\\\")[-1]].to_csv(f'{name}_standard.csv', index = False)\n"
   ]
  },
  {
   "cell_type": "code",
   "execution_count": 88,
   "metadata": {},
   "outputs": [
    {
     "name": "stderr",
     "output_type": "stream",
     "text": [
      "C:\\Users\\henry\\AppData\\Roaming\\Python\\Python38\\site-packages\\IPython\\core\\interactiveshell.py:3139: DtypeWarning: Columns (10) have mixed types.Specify dtype option on import or set low_memory=False.\n",
      "  has_raised = await self.run_ast_nodes(code_ast.body, cell_name,\n"
     ]
    },
    {
     "data": {
      "text/plain": [
       "21243344"
      ]
     },
     "execution_count": 88,
     "metadata": {},
     "output_type": "execute_result"
    }
   ],
   "source": [
    "a = 0\n",
    "for f in csv_files:\n",
    "    curr = pd.read_csv(f)\n",
    "    a += len(curr)\n",
    "\n",
    "a"
   ]
  },
  {
   "cell_type": "code",
   "execution_count": 86,
   "metadata": {},
   "outputs": [
    {
     "data": {
      "text/plain": [
       "21243344"
      ]
     },
     "execution_count": 86,
     "metadata": {},
     "output_type": "execute_result"
    }
   ],
   "source": [
    "len(final_df_full)"
   ]
  },
  {
   "cell_type": "code",
   "execution_count": 89,
   "metadata": {},
   "outputs": [
    {
     "data": {
      "text/plain": [
       "dtype('float64')"
      ]
     },
     "execution_count": 89,
     "metadata": {},
     "output_type": "execute_result"
    }
   ],
   "source": [
    "final_df_full['tripduration'].dtype"
   ]
  }
 ],
 "metadata": {
  "kernelspec": {
   "display_name": "Python 3",
   "language": "python",
   "name": "python3"
  },
  "language_info": {
   "codemirror_mode": {
    "name": "ipython",
    "version": 3
   },
   "file_extension": ".py",
   "mimetype": "text/x-python",
   "name": "python",
   "nbconvert_exporter": "python",
   "pygments_lexer": "ipython3",
   "version": "3.8.5"
  },
  "orig_nbformat": 4,
  "vscode": {
   "interpreter": {
    "hash": "f1a4a4f144332a771e00e7433ba769f3488621905bd9605b0b008be2dfad0e0c"
   }
  }
 },
 "nbformat": 4,
 "nbformat_minor": 2
}
