{
	"cells": [
		{
			"attachments": {},
			"cell_type": "markdown",
			"metadata": {
				"editable": true,
				"trusted": true
			},
			"source": [
				"# AWS Glue Studio Notebook\n",
				"##### You are now running a AWS Glue Studio notebook; To start using your notebook you need to start an AWS Glue Interactive Session.\n"
			]
		},
		{
			"attachments": {},
			"cell_type": "markdown",
			"metadata": {
				"editable": true,
				"trusted": true
			},
			"source": [
				"#### Optional: Run this cell to see available notebook commands (\"magics\").\n"
			]
		},
		{
			"cell_type": "code",
			"execution_count": 2,
			"metadata": {
				"editable": true,
				"trusted": true
			},
			"outputs": [
				{
					"name": "stdout",
					"output_type": "stream",
					"text": [
						"Welcome to the Glue Interactive Sessions Kernel\n",
						"For more information on available magic commands, please type %help in any new cell.\n",
						"\n",
						"Please view our Getting Started page to access the most up-to-date information on the Interactive Sessions kernel: https://docs.aws.amazon.com/glue/latest/dg/interactive-sessions.html\n",
						"Installed kernel version: 0.37.0 \n"
					]
				},
				{
					"data": {
						"text/markdown": [
							"\n",
							"# Available Magic Commands\n",
							"\n",
							"## Sessions Magic\n",
							"\n",
							"----\n",
							"    %help                             Return a list of descriptions and input types for all magic commands. \n",
							"    %profile            String        Specify a profile in your aws configuration to use as the credentials provider.\n",
							"    %region             String        Specify the AWS region in which to initialize a session. \n",
							"                                      Default from ~/.aws/config on Linux or macOS, \n",
							"                                      or C:\\Users\\ USERNAME \\.aws\\config\" on Windows.\n",
							"    %idle_timeout       Int           The number of minutes of inactivity after which a session will timeout. \n",
							"                                      Default: 2880 minutes (48 hours).\n",
							"    %session_id_prefix  String        Define a String that will precede all session IDs in the format \n",
							"                                      [session_id_prefix]-[session_id]. If a session ID is not provided,\n",
							"                                      a random UUID will be generated.\n",
							"    %status                           Returns the status of the current Glue session including its duration, \n",
							"                                      configuration and executing user / role.\n",
							"    %session_id                       Returns the session ID for the running session. \n",
							"    %list_sessions                    Lists all currently running sessions by ID.\n",
							"    %stop_session                     Stops the current session.\n",
							"    %glue_version       String        The version of Glue to be used by this session. \n",
							"                                      Currently, the only valid options are 2.0 and 3.0. \n",
							"                                      Default: 2.0.\n",
							"----\n",
							"\n",
							"## Selecting Job Types\n",
							"\n",
							"----\n",
							"    %streaming          String        Sets the session type to Glue Streaming.\n",
							"    %etl                String        Sets the session type to Glue ETL.\n",
							"    %glue_ray           String        Sets the session type to Glue Ray.\n",
							"----\n",
							"\n",
							"## Glue Config Magic \n",
							"*(common across all job types)*\n",
							"\n",
							"----\n",
							"\n",
							"    %%configure         Dictionary    A json-formatted dictionary consisting of all configuration parameters for \n",
							"                                      a session. Each parameter can be specified here or through individual magics.\n",
							"    %iam_role           String        Specify an IAM role ARN to execute your session with.\n",
							"                                      Default from ~/.aws/config on Linux or macOS, \n",
							"                                      or C:\\Users\\%USERNAME%\\.aws\\config` on Windows.\n",
							"    %number_of_workers  int           The number of workers of a defined worker_type that are allocated \n",
							"                                      when a session runs.\n",
							"                                      Default: 5.\n",
							"    %additional_python_modules  List  Comma separated list of additional Python modules to include in your cluster \n",
							"                                      (can be from Pypi or S3).\n",
							"----\n",
							"\n",
							"                                      \n",
							"## Magic for Spark Jobs (ETL & Streaming)\n",
							"\n",
							"----\n",
							"    %worker_type        String        Set the type of instances the session will use as workers. \n",
							"                                      ETL and Streaming support G.1X and G.2X. \n",
							"                                      Default: G.1X.\n",
							"    %connections        List          Specify a comma separated list of connections to use in the session.\n",
							"    %extra_py_files     List          Comma separated list of additional Python files From S3.\n",
							"    %extra_jars         List          Comma separated list of additional Jars to include in the cluster.\n",
							"    %spark_conf         String        Specify custom spark configurations for your session. \n",
							"                                      E.g. %spark_conf spark.serializer=org.apache.spark.serializer.KryoSerializer\n",
							"----\n",
							"                                      \n",
							"## Magic for Ray Job\n",
							"\n",
							"----\n",
							"    %min_workers        Int           The minimum number of workers that are allocated to a Ray job. \n",
							"                                      Default: 1.\n",
							"    %object_memory_head Int           The percentage of free memory on the instance head node after a warm start. \n",
							"                                      Minimum: 0. Maximum: 100.\n",
							"    %object_memory_worker Int         The percentage of free memory on the instance worker nodes after a warm start. \n",
							"                                      Minimum: 0. Maximum: 100.\n",
							"----\n",
							"\n",
							"## Action Magic\n",
							"\n",
							"----\n",
							"\n",
							"    %%sql               String        Run SQL code. All lines after the initial %%sql magic will be passed\n",
							"                                      as part of the SQL code.  \n",
							"----\n",
							"\n"
						]
					},
					"metadata": {},
					"output_type": "display_data"
				}
			],
			"source": [
				"%help"
			]
		},
		{
			"attachments": {},
			"cell_type": "markdown",
			"metadata": {
				"editable": true,
				"trusted": true
			},
			"source": [
				"####  Run this cell to set up and start your interactive session.\n"
			]
		},
		{
			"cell_type": "code",
			"execution_count": 1,
			"metadata": {
				"editable": true,
				"trusted": true
			},
			"outputs": [
				{
					"name": "stdout",
					"output_type": "stream",
					"text": [
						"Welcome to the Glue Interactive Sessions Kernel\n",
						"For more information on available magic commands, please type %help in any new cell.\n",
						"\n",
						"Please view our Getting Started page to access the most up-to-date information on the Interactive Sessions kernel: https://docs.aws.amazon.com/glue/latest/dg/interactive-sessions.html\n",
						"Installed kernel version: 0.37.0 \n",
						"Current idle_timeout is 2800 minutes.\n",
						"idle_timeout has been set to 2880 minutes.\n",
						"Setting Glue version to: 3.0\n",
						"Previous worker type: G.1X\n",
						"Setting new worker type to: G.1X\n",
						"Previous number of workers: 5\n",
						"Setting new number of workers to: 5\n",
						"Authenticating with environment variables and user-defined glue_role_arn: arn:aws:iam::001898544471:role/glue\n",
						"Trying to create a Glue session for the kernel.\n",
						"Worker Type: G.1X\n",
						"Number of Workers: 5\n",
						"Session ID: 1cd7c610-8e78-4e4c-8d48-ecaca083793b\n",
						"Job Type: glueetl\n",
						"Applying the following default arguments:\n",
						"--glue_kernel_version 0.37.0\n",
						"--enable-glue-datacatalog true\n",
						"Waiting for session 1cd7c610-8e78-4e4c-8d48-ecaca083793b to get into ready status...\n",
						"Session 1cd7c610-8e78-4e4c-8d48-ecaca083793b has been created.\n",
						"\n"
					]
				}
			],
			"source": [
				"%idle_timeout 2880\n",
				"%glue_version 3.0\n",
				"%worker_type G.1X\n",
				"%number_of_workers 5\n",
				"\n",
				"import sys\n",
				"from awsglue.transforms import *\n",
				"from awsglue.utils import getResolvedOptions\n",
				"from pyspark.context import SparkContext\n",
				"from awsglue.context import GlueContext\n",
				"from awsglue.job import Job\n",
				"  \n",
				"sc = SparkContext.getOrCreate()\n",
				"glueContext = GlueContext(sc)\n",
				"spark = glueContext.spark_session\n",
				"job = Job(glueContext)"
			]
		},
		{
			"cell_type": "code",
			"execution_count": 1,
			"metadata": {},
			"outputs": [
				{
					"name": "stderr",
					"output_type": "stream",
					"text": [
						"23/05/27 23:18:35 WARN Utils: Your hostname, henry-workstation resolves to a loopback address: 127.0.1.1; using 192.168.1.246 instead (on interface wlp4s0)\n",
						"23/05/27 23:18:35 WARN Utils: Set SPARK_LOCAL_IP if you need to bind to another address\n",
						"Setting default log level to \"WARN\".\n",
						"To adjust logging level use sc.setLogLevel(newLevel). For SparkR, use setLogLevel(newLevel).\n",
						"23/05/27 23:18:36 WARN NativeCodeLoader: Unable to load native-hadoop library for your platform... using builtin-java classes where applicable\n",
						"23/05/27 23:18:39 WARN CSVHeaderChecker: CSV header does not conform to the schema.\n",
						" Header: , start_time, trips, zip\n",
						" Schema: _c0, start_time, trips, zip\n",
						"Expected: _c0 but found: \n",
						"CSV file: file:///home/henry/Desktop/MSiA/CDL2/CDL-UseCases/final_static.csv\n"
					]
				},
				{
					"name": "stdout",
					"output_type": "stream",
					"text": [
						"+---+-------------------+-----+-----+\n",
						"|_c0|         start_time|trips|  zip|\n",
						"+---+-------------------+-----+-----+\n",
						"|  0|2013-06-27 01:00:00|    1|60661|\n",
						"|  1|2013-06-27 11:00:00|    1|60622|\n",
						"|  2|2013-06-27 11:00:00|    3|60607|\n",
						"|  3|2013-06-27 12:00:00|    1|60614|\n",
						"|  4|2013-06-27 12:00:00|    2|60611|\n",
						"+---+-------------------+-----+-----+\n",
						"only showing top 5 rows\n",
						"\n"
					]
				}
			],
			"source": [
				"from pyspark.sql import SparkSession\n",
				"\n",
				"# Create a Spark session\n",
				"spark = SparkSession.builder \\\n",
				"    .appName(\"Read CSV into PySpark DataFrame\") \\\n",
				"    .getOrCreate()\n",
				"\n",
				"# Read the CSV file into a PySpark DataFrame\n",
				"file_path = \"final_static.csv\"  # Replace this with the path to your CSV file\n",
				"df = spark.read.csv(file_path, header=True, inferSchema=True)\n",
				"\n",
				"# Show the first few rows of the DataFrame\n",
				"df.show(5)\n",
				"\n",
				"# Perform operations on the DataFrame as needed\n",
				"\n",
				"# Stop the Spark session when you're done\n",
				"# spark.stop()\n"
			]
		},
		{
			"attachments": {},
			"cell_type": "markdown",
			"metadata": {},
			"source": [
				"## Trips"
			]
		},
		{
			"cell_type": "code",
			"execution_count": 3,
			"metadata": {},
			"outputs": [
				{
					"name": "stdout",
					"output_type": "stream",
					"text": [
						"+---+-------------------+-----+-----+\n",
						"|_c0|         start_time|trips|  zip|\n",
						"+---+-------------------+-----+-----+\n",
						"|  0|2013-06-27 01:00:00|    1|60661|\n",
						"|  1|2013-06-27 11:00:00|    1|60622|\n",
						"|  2|2013-06-27 11:00:00|    3|60607|\n",
						"|  3|2013-06-27 12:00:00|    1|60614|\n",
						"|  4|2013-06-27 12:00:00|    2|60611|\n",
						"+---+-------------------+-----+-----+\n",
						"only showing top 5 rows\n",
						"\n"
					]
				},
				{
					"name": "stderr",
					"output_type": "stream",
					"text": [
						"23/05/27 23:19:07 WARN CSVHeaderChecker: CSV header does not conform to the schema.\n",
						" Header: , start_time, trips, zip\n",
						" Schema: _c0, start_time, trips, zip\n",
						"Expected: _c0 but found: \n",
						"CSV file: file:///home/henry/Desktop/MSiA/CDL2/CDL-UseCases/final_static.csv\n"
					]
				}
			],
			"source": [
				"file_path = \"final_static.csv\"  # Replace this with the path to your CSV file\n",
				"trips_df_static = spark.read.csv(file_path, header=True, inferSchema=True)\n",
				"\n",
				"# Show the first few rows of the DataFrame\n",
				"trips_df_static.show(5)"
			]
		},
		{
			"cell_type": "code",
			"execution_count": 4,
			"metadata": {
				"trusted": true
			},
			"outputs": [],
			"source": [
				"# Static fix columns\n",
				"# header = trips_df_static.rdd.first()\n",
				"# trips_final_static = spark.createDataFrame(trips_df_static.rdd.filter(lambda x: x != header), header)\n",
				"trips_final_static = trips_df_static.drop(\"_c0\")"
			]
		},
		{
			"cell_type": "code",
			"execution_count": 5,
			"metadata": {},
			"outputs": [
				{
					"name": "stdout",
					"output_type": "stream",
					"text": [
						"root\n",
						" |-- start_time: timestamp (nullable = true)\n",
						" |-- trips: integer (nullable = true)\n",
						" |-- zip: integer (nullable = true)\n",
						"\n"
					]
				}
			],
			"source": [
				"trips_final_static.printSchema()"
			]
		},
		{
			"attachments": {},
			"cell_type": "markdown",
			"metadata": {},
			"source": [
				"## Landmark"
			]
		},
		{
			"cell_type": "code",
			"execution_count": 6,
			"metadata": {
				"trusted": true
			},
			"outputs": [
				{
					"name": "stdout",
					"output_type": "stream",
					"text": [
						"+--------+---------+\n",
						"|zip_code|landmarks|\n",
						"+--------+---------+\n",
						"|   60302|        1|\n",
						"|   60409|        1|\n",
						"|   60601|       15|\n",
						"|   60602|        9|\n",
						"|   60603|       12|\n",
						"+--------+---------+\n",
						"only showing top 5 rows\n",
						"\n"
					]
				}
			],
			"source": [
				"# Static and Streamed all in 1 DF\n",
				"file_path = \"landmark_clean.csv\"  # Replace this with the path to your CSV file\n",
				"landmark_df = spark.read.csv(file_path, header=True, inferSchema=True)\n",
				"landmark_df = landmark_df.drop(\"_c0\")\n",
				"\n",
				"# Show the first few rows of the DataFrame\n",
				"landmark_df.show(5)"
			]
		},
		{
			"cell_type": "code",
			"execution_count": 7,
			"metadata": {},
			"outputs": [],
			"source": [
				"from pyspark.sql.functions import col\n",
				"landmark_df = landmark_df.withColumn(\"zip_code\", col('zip_code').cast(\"string\"))"
			]
		},
		{
			"cell_type": "code",
			"execution_count": 8,
			"metadata": {},
			"outputs": [
				{
					"name": "stdout",
					"output_type": "stream",
					"text": [
						"root\n",
						" |-- zip_code: string (nullable = true)\n",
						" |-- landmarks: integer (nullable = true)\n",
						"\n"
					]
				}
			],
			"source": [
				"landmark_df.printSchema()"
			]
		},
		{
			"attachments": {},
			"cell_type": "markdown",
			"metadata": {},
			"source": [
				"## Weather"
			]
		},
		{
			"cell_type": "code",
			"execution_count": 9,
			"metadata": {
				"trusted": true
			},
			"outputs": [
				{
					"name": "stdout",
					"output_type": "stream",
					"text": [
						"+-------------------+----+------------+--------+-------------+------+----+----+----------+---------+\n",
						"|               time|temp|rel_humidity|dewpoint|apparent_temp|precip|rain|snow|cloudcover|windspeed|\n",
						"+-------------------+----+------------+--------+-------------+------+----+----+----------+---------+\n",
						"|2013-01-01 00:00:00|-4.2|          66|    -9.7|        -10.2|   0.0| 0.0| 0.0|        79|     15.8|\n",
						"|2013-01-01 01:00:00|-4.3|          67|    -9.5|        -10.5|   0.0| 0.0| 0.0|        72|     16.1|\n",
						"|2013-01-01 02:00:00|-4.4|          67|    -9.7|        -10.3|   0.0| 0.0| 0.0|        82|     14.6|\n",
						"|2013-01-01 03:00:00|-4.6|          67|    -9.8|        -10.5|   0.0| 0.0| 0.0|        80|     14.4|\n",
						"|2013-01-01 04:00:00|-4.8|          68|    -9.9|        -11.9|   0.0| 0.0| 0.0|        37|     16.3|\n",
						"+-------------------+----+------------+--------+-------------+------+----+----+----------+---------+\n",
						"only showing top 5 rows\n",
						"\n",
						"root\n",
						" |-- time: timestamp (nullable = true)\n",
						" |-- temp: double (nullable = true)\n",
						" |-- rel_humidity: integer (nullable = true)\n",
						" |-- dewpoint: double (nullable = true)\n",
						" |-- apparent_temp: double (nullable = true)\n",
						" |-- precip: double (nullable = true)\n",
						" |-- rain: double (nullable = true)\n",
						" |-- snow: double (nullable = true)\n",
						" |-- cloudcover: integer (nullable = true)\n",
						" |-- windspeed: double (nullable = true)\n",
						"\n"
					]
				}
			],
			"source": [
				"# Static and Streamed all in 1 DF\n",
				"file_path = \"weather_static.csv\"  # Replace this with the path to your CSV file\n",
				"weather_df_static = spark.read.csv(file_path, header=True, inferSchema=True)\n",
				"weather_df_static = weather_df_static.drop(\"_c0\")\n",
				"\n",
				"# Show the first few rows of the DataFrame\n",
				"weather_df_static.show(5)\n",
				"weather_df_static.printSchema()"
			]
		},
		{
			"attachments": {},
			"cell_type": "markdown",
			"metadata": {},
			"source": [
				"## Join"
			]
		},
		{
			"cell_type": "code",
			"execution_count": 10,
			"metadata": {
				"trusted": true
			},
			"outputs": [],
			"source": [
				"# Weather and trips\n",
				"from pyspark.sql.functions import col, to_timestamp, date_format\n",
				"\n",
				"wt_static = trips_final_static.join(weather_df_static, trips_final_static.start_time == weather_df_static.time, \"left\")\n",
				"\n",
				"# Weather, trips, and landmark\n",
				"wtl_static = wt_static.join(landmark_df, wt_static.zip == landmark_df.zip_code, \"left\")\n",
				"\n",
				"# Drop duplicate\n",
				"wtl_static_final = wtl_static.drop(\"zip_code\", \"time\").orderBy(\"start_time\")\n",
				"wtl_static_final = wtl_static_final.withColumn(\"start_time\", date_format(\"start_time\", \"yyyy-MM-dd HH:mm:ss\"))"
			]
		},
		{
			"cell_type": "code",
			"execution_count": 11,
			"metadata": {},
			"outputs": [
				{
					"name": "stderr",
					"output_type": "stream",
					"text": [
						"23/05/27 23:19:23 WARN package: Truncated the string representation of a plan since it was too large. This behavior can be adjusted by setting 'spark.sql.debug.maxToStringFields'.\n"
					]
				},
				{
					"name": "stdout",
					"output_type": "stream",
					"text": [
						"+-----+\n",
						"|60202|\n",
						"+-----+\n",
						"|    1|\n",
						"|    0|\n",
						"+-----+\n",
						"\n"
					]
				}
			],
			"source": [
				"import pyspark.sql.functions as F\n",
				"\n",
				"spark = SparkSession.builder \\\n",
				"    .appName(\"Read CSV into PySpark DataFrame\") \\\n",
				"    .getOrCreate()\n",
				"\n",
				"df2 = (wtl_static_final.select('zip', F.explode(F.split('zip', ', ')).alias('zip_2'))\n",
				"         .groupBy('zip')\n",
				"         .pivot('zip')\n",
				"         .agg(F.lit(1))\n",
				"         .fillna(0)\n",
				"      )\n",
				"\n",
				"df2.select('60202').distinct().show()"
			]
		},
		{
			"cell_type": "code",
			"execution_count": 43,
			"metadata": {},
			"outputs": [],
			"source": [
				"df2.toPandas().to_csv(\"ohe_zipcode.csv\")"
			]
		},
		{
			"cell_type": "code",
			"execution_count": 13,
			"metadata": {},
			"outputs": [
				{
					"name": "stderr",
					"output_type": "stream",
					"text": [
						"                                                                                \r"
					]
				},
				{
					"name": "stdout",
					"output_type": "stream",
					"text": [
						"+-------------------+-----+----+------------+--------+-------------+------+----+----+----------+---------+---------+-----+-----+-----+-----+-----+-----+-----+-----+-----+-----+-----+-----+-----+-----+-----+-----+-----+-----+-----+-----+-----+-----+-----+-----+-----+-----+-----+-----+-----+-----+-----+-----+-----+-----+-----+-----+-----+-----+-----+-----+-----+-----+-----+-----+-----+-----+-----+-----+-----+-----+-----+-----+-----+-----+-----+-----+-----+\n",
						"|         start_time|trips|temp|rel_humidity|dewpoint|apparent_temp|precip|rain|snow|cloudcover|windspeed|landmarks|60201|60202|60208|60301|60302|60304|60601|60602|60603|60604|60605|60606|60607|60608|60609|60610|60611|60612|60613|60614|60615|60616|60617|60618|60619|60620|60621|60622|60623|60624|60625|60626|60628|60629|60630|60632|60636|60637|60638|60640|60641|60642|60643|60644|60645|60646|60647|60649|60651|60653|60654|60657|60659|60660|60661|60696|60804|\n",
						"+-------------------+-----+----+------------+--------+-------------+------+----+----+----------+---------+---------+-----+-----+-----+-----+-----+-----+-----+-----+-----+-----+-----+-----+-----+-----+-----+-----+-----+-----+-----+-----+-----+-----+-----+-----+-----+-----+-----+-----+-----+-----+-----+-----+-----+-----+-----+-----+-----+-----+-----+-----+-----+-----+-----+-----+-----+-----+-----+-----+-----+-----+-----+-----+-----+-----+-----+-----+-----+\n",
						"|2013-06-27 01:00:00|    1|22.5|          87|    20.2|         24.6|   0.0| 0.0| 0.0|        34|      6.8|        2|    0|    0|    0|    0|    0|    0|    0|    0|    0|    0|    0|    0|    0|    0|    0|    0|    0|    0|    0|    0|    0|    0|    0|    0|    0|    0|    0|    0|    0|    0|    0|    0|    0|    0|    0|    0|    0|    0|    0|    0|    0|    0|    0|    0|    0|    0|    0|    0|    0|    0|    0|    0|    0|    0|    1|    0|    0|\n",
						"|2013-06-27 11:00:00|    3|26.5|          72|    21.0|         31.9|   0.1| 0.1| 0.0|        36|     10.5|       10|    0|    0|    0|    0|    0|    0|    0|    0|    0|    0|    0|    0|    1|    0|    0|    0|    0|    0|    0|    0|    0|    0|    0|    0|    0|    0|    0|    0|    0|    0|    0|    0|    0|    0|    0|    0|    0|    0|    0|    0|    0|    0|    0|    0|    0|    0|    0|    0|    0|    0|    0|    0|    0|    0|    0|    0|    0|\n",
						"|2013-06-27 11:00:00|    1|26.5|          72|    21.0|         31.9|   0.1| 0.1| 0.0|        36|     10.5|        8|    0|    0|    0|    0|    0|    0|    0|    0|    0|    0|    0|    0|    0|    0|    0|    0|    0|    0|    0|    0|    0|    0|    0|    0|    0|    0|    0|    1|    0|    0|    0|    0|    0|    0|    0|    0|    0|    0|    0|    0|    0|    0|    0|    0|    0|    0|    0|    0|    0|    0|    0|    0|    0|    0|    0|    0|    0|\n",
						"|2013-06-27 12:00:00|    1|27.2|          70|    21.2|         33.2|   0.0| 0.0| 0.0|        31|     12.9|       14|    0|    0|    0|    0|    0|    0|    0|    0|    0|    0|    0|    0|    0|    0|    0|    0|    0|    0|    0|    1|    0|    0|    0|    0|    0|    0|    0|    0|    0|    0|    0|    0|    0|    0|    0|    0|    0|    0|    0|    0|    0|    0|    0|    0|    0|    0|    0|    0|    0|    0|    0|    0|    0|    0|    0|    0|    0|\n",
						"|2013-06-27 12:00:00|    2|27.2|          70|    21.2|         33.2|   0.0| 0.0| 0.0|        31|     12.9|       20|    0|    0|    0|    0|    0|    0|    0|    0|    0|    0|    0|    0|    0|    0|    0|    0|    1|    0|    0|    0|    0|    0|    0|    0|    0|    0|    0|    0|    0|    0|    0|    0|    0|    0|    0|    0|    0|    0|    0|    0|    0|    0|    0|    0|    0|    0|    0|    0|    0|    0|    0|    0|    0|    0|    0|    0|    0|\n",
						"+-------------------+-----+----+------------+--------+-------------+------+----+----+----------+---------+---------+-----+-----+-----+-----+-----+-----+-----+-----+-----+-----+-----+-----+-----+-----+-----+-----+-----+-----+-----+-----+-----+-----+-----+-----+-----+-----+-----+-----+-----+-----+-----+-----+-----+-----+-----+-----+-----+-----+-----+-----+-----+-----+-----+-----+-----+-----+-----+-----+-----+-----+-----+-----+-----+-----+-----+-----+-----+\n",
						"only showing top 5 rows\n",
						"\n"
					]
				}
			],
			"source": [
				"wtl_static_final = wtl_static_final.withColumnRenamed(\"zip\", \"zip_code\")\n",
				"wt_ohe = wtl_static_final.join(df2, wtl_static_final.zip_code == df2.zip, \"left\").orderBy(\"start_time\")\n",
				"wt_ohe = wt_ohe.drop(\"zip_code\", \"zip\")\n",
				"wt_ohe.show(5)"
			]
		},
		{
			"cell_type": "code",
			"execution_count": 14,
			"metadata": {},
			"outputs": [],
			"source": [
				"from pyspark.sql import functions as F\n",
				"from pyspark.sql import types as T\n",
				"from math import pi\n",
				"\n",
				"# Make sure start_time is of correct data type\n",
				"wt_ohe = wt_ohe.withColumn(\"start_time\", wt_ohe[\"start_time\"].cast(T.TimestampType()))\n",
				"\n",
				"start = wt_ohe.select('start_time').first()[0]\n",
				"\n",
				"# Calculate hours_since_start\n",
				"df_new = wt_ohe.withColumn('hours_since_start', \n",
				"                       (F.unix_timestamp('start_time') - F.unix_timestamp(F.lit(start)))/3600)\n",
				"\n",
				"# Drop start_time column\n",
				"df_new = df_new.drop('start_time')\n",
				"\n",
				"# Create Year sin, Year cos, Week sin, Week cos, Day sin, Day cos columns\n",
				"df_new = df_new.withColumn('Year_sin', F.sin(df_new['hours_since_start'] * (2 * pi / (365*24))))\n",
				"df_new = df_new.withColumn('Year_cos', F.cos(df_new['hours_since_start'] * (2 * pi / (365*24))))\n",
				"\n",
				"df_new = df_new.withColumn('Week_sin', F.sin(df_new['hours_since_start'] * (2 * pi / (7*24))))\n",
				"df_new = df_new.withColumn('Week_cos', F.cos(df_new['hours_since_start'] * (2 * pi / (7*24))))\n",
				"\n",
				"df_new = df_new.withColumn('Day_sin', F.sin(df_new['hours_since_start'] * (2 * pi / 24)))\n",
				"df_new = df_new.withColumn('Day_cos', F.cos(df_new['hours_since_start'] * (2 * pi / 24)))\n"
			]
		},
		{
			"cell_type": "code",
			"execution_count": 15,
			"metadata": {},
			"outputs": [
				{
					"name": "stderr",
					"output_type": "stream",
					"text": [
						"                                                                                \r"
					]
				},
				{
					"name": "stdout",
					"output_type": "stream",
					"text": [
						"+-----+----+------------+--------+-------------+------+----+----+----------+---------+---------+-----+-----+-----+-----+-----+-----+-----+-----+-----+-----+-----+-----+-----+-----+-----+-----+-----+-----+-----+-----+-----+-----+-----+-----+-----+-----+-----+-----+-----+-----+-----+-----+-----+-----+-----+-----+-----+-----+-----+-----+-----+-----+-----+-----+-----+-----+-----+-----+-----+-----+-----+-----+-----+-----+-----+-----+-----+-----------------+--------------------+------------------+-------------------+------------------+--------------------+-------------------+\n",
						"|trips|temp|rel_humidity|dewpoint|apparent_temp|precip|rain|snow|cloudcover|windspeed|landmarks|60201|60202|60208|60301|60302|60304|60601|60602|60603|60604|60605|60606|60607|60608|60609|60610|60611|60612|60613|60614|60615|60616|60617|60618|60619|60620|60621|60622|60623|60624|60625|60626|60628|60629|60630|60632|60636|60637|60638|60640|60641|60642|60643|60644|60645|60646|60647|60649|60651|60653|60654|60657|60659|60660|60661|60696|60804|hours_since_start|            Year sin|          Year cos|           Week sin|          Week cos|             Day sin|            Day cos|\n",
						"+-----+----+------------+--------+-------------+------+----+----+----------+---------+---------+-----+-----+-----+-----+-----+-----+-----+-----+-----+-----+-----+-----+-----+-----+-----+-----+-----+-----+-----+-----+-----+-----+-----+-----+-----+-----+-----+-----+-----+-----+-----+-----+-----+-----+-----+-----+-----+-----+-----+-----+-----+-----+-----+-----+-----+-----+-----+-----+-----+-----+-----+-----+-----+-----+-----+-----+-----+-----------------+--------------------+------------------+-------------------+------------------+--------------------+-------------------+\n",
						"|    1|22.5|          87|    20.2|         24.6|   0.0| 0.0| 0.0|        34|      6.8|        2|    0|    0|    0|    0|    0|    0|    0|    0|    0|    0|    0|    0|    0|    0|    0|    0|    0|    0|    0|    0|    0|    0|    0|    0|    0|    0|    0|    0|    0|    0|    0|    0|    0|    0|    0|    0|    0|    0|    0|    0|    0|    0|    0|    0|    0|    0|    0|    0|    0|    0|    0|    0|    0|    0|    1|    0|    0|              0.0|                 0.0|               1.0|                0.0|               1.0|                 0.0|                1.0|\n",
						"|    3|26.5|          72|    21.0|         31.9|   0.1| 0.1| 0.0|        36|     10.5|       10|    0|    0|    0|    0|    0|    0|    0|    0|    0|    0|    0|    0|    1|    0|    0|    0|    0|    0|    0|    0|    0|    0|    0|    0|    0|    0|    0|    0|    0|    0|    0|    0|    0|    0|    0|    0|    0|    0|    0|    0|    0|    0|    0|    0|    0|    0|    0|    0|    0|    0|    0|    0|    0|    0|    0|    0|    0|             10.0|0.007172524467127842|0.9999742771155509|0.36534102436639504|0.9308737486442042|  0.5000000000000003|-0.8660254037844385|\n",
						"|    1|26.5|          72|    21.0|         31.9|   0.1| 0.1| 0.0|        36|     10.5|        8|    0|    0|    0|    0|    0|    0|    0|    0|    0|    0|    0|    0|    0|    0|    0|    0|    0|    0|    0|    0|    0|    0|    0|    0|    0|    0|    0|    1|    0|    0|    0|    0|    0|    0|    0|    0|    0|    0|    0|    0|    0|    0|    0|    0|    0|    0|    0|    0|    0|    0|    0|    0|    0|    0|    0|    0|    0|             10.0|0.007172524467127842|0.9999742771155509|0.36534102436639504|0.9308737486442042|  0.5000000000000003|-0.8660254037844385|\n",
						"|    1|27.2|          70|    21.2|         33.2|   0.0| 0.0| 0.0|        31|     12.9|       14|    0|    0|    0|    0|    0|    0|    0|    0|    0|    0|    0|    0|    0|    0|    0|    0|    0|    0|    0|    1|    0|    0|    0|    0|    0|    0|    0|    0|    0|    0|    0|    0|    0|    0|    0|    0|    0|    0|    0|    0|    0|    0|    0|    0|    0|    0|    0|    0|    0|    0|    0|    0|    0|    0|    0|    0|    0|             11.0|0.007889762707391277|0.9999688753378382|0.39989202431974097|0.9165622558699762|   0.258819045102521|-0.9659258262890682|\n",
						"|    2|27.2|          70|    21.2|         33.2|   0.0| 0.0| 0.0|        31|     12.9|       20|    0|    0|    0|    0|    0|    0|    0|    0|    0|    0|    0|    0|    0|    0|    0|    0|    1|    0|    0|    0|    0|    0|    0|    0|    0|    0|    0|    0|    0|    0|    0|    0|    0|    0|    0|    0|    0|    0|    0|    0|    0|    0|    0|    0|    0|    0|    0|    0|    0|    0|    0|    0|    0|    0|    0|    0|    0|             11.0|0.007889762707391277|0.9999688753378382|0.39989202431974097|0.9165622558699762|   0.258819045102521|-0.9659258262890682|\n",
						"|    2|29.8|          57|    20.3|         34.0|   0.0| 0.0| 0.0|        31|     13.1|        7|    0|    0|    0|    0|    0|    0|    0|    0|    0|    1|    0|    0|    0|    0|    0|    0|    0|    0|    0|    0|    0|    0|    0|    0|    0|    0|    0|    0|    0|    0|    0|    0|    0|    0|    0|    0|    0|    0|    0|    0|    0|    0|    0|    0|    0|    0|    0|    0|    0|    0|    0|    0|    0|    0|    0|    0|    0|             12.0|  0.0086069968886884|0.9999629591162655| 0.4338837391175581|0.9009688679024191|1.224646799147353...|               -1.0|\n",
						"|    1|30.4|          53|    19.8|         34.6|   0.0| 0.0| 0.0|        13|     12.5|       10|    0|    0|    0|    0|    0|    0|    0|    0|    0|    0|    0|    1|    0|    0|    0|    0|    0|    0|    0|    0|    0|    0|    0|    0|    0|    0|    0|    0|    0|    0|    0|    0|    0|    0|    0|    0|    0|    0|    0|    0|    0|    0|    0|    0|    0|    0|    0|    0|    0|    0|    0|    0|    0|    0|    0|    0|    0|             13.0|0.009324226642030998|0.9999565284538764|  0.467268628273062|0.8841153935046098|-0.25881904510252035|-0.9659258262890684|\n",
						"|    3|30.4|          53|    19.8|         34.6|   0.0| 0.0| 0.0|        13|     12.5|       10|    0|    0|    0|    0|    0|    0|    0|    0|    0|    0|    0|    0|    1|    0|    0|    0|    0|    0|    0|    0|    0|    0|    0|    0|    0|    0|    0|    0|    0|    0|    0|    0|    0|    0|    0|    0|    0|    0|    0|    0|    0|    0|    0|    0|    0|    0|    0|    0|    0|    0|    0|    0|    0|    0|    0|    0|    0|             13.0|0.009324226642030998|0.9999565284538764|  0.467268628273062|0.8841153935046098|-0.25881904510252035|-0.9659258262890684|\n",
						"|    1|30.4|          53|    19.8|         34.6|   0.0| 0.0| 0.0|        13|     12.5|        8|    0|    0|    0|    0|    0|    0|    0|    0|    0|    0|    0|    0|    0|    0|    0|    0|    0|    0|    0|    0|    0|    0|    0|    0|    0|    0|    0|    1|    0|    0|    0|    0|    0|    0|    0|    0|    0|    0|    0|    0|    0|    0|    0|    0|    0|    0|    0|    0|    0|    0|    0|    0|    0|    0|    0|    0|    0|             13.0|0.009324226642030998|0.9999565284538764|  0.467268628273062|0.8841153935046098|-0.25881904510252035|-0.9659258262890684|\n",
						"|    1|31.0|          49|    19.1|         32.3|   0.0| 0.0| 0.0|        71|     20.4|       14|    0|    0|    0|    0|    0|    0|    0|    0|    0|    0|    0|    0|    0|    0|    0|    0|    0|    0|    0|    1|    0|    0|    0|    0|    0|    0|    0|    0|    0|    0|    0|    0|    0|    0|    0|    0|    0|    0|    0|    0|    0|    0|    0|    0|    0|    0|    0|    0|    0|    0|    0|    0|    0|    0|    0|    0|    0|             14.0|0.010041451598433147|0.9999495833539791|                0.5|0.8660254037844386| -0.4999999999999997|-0.8660254037844388|\n",
						"|    1|31.0|          49|    19.1|         32.3|   0.0| 0.0| 0.0|        71|     20.4|       10|    0|    0|    0|    0|    0|    0|    0|    0|    0|    0|    0|    1|    0|    0|    0|    0|    0|    0|    0|    0|    0|    0|    0|    0|    0|    0|    0|    0|    0|    0|    0|    0|    0|    0|    0|    0|    0|    0|    0|    0|    0|    0|    0|    0|    0|    0|    0|    0|    0|    0|    0|    0|    0|    0|    0|    0|    0|             14.0|0.010041451598433147|0.9999495833539791|                0.5|0.8660254037844386| -0.4999999999999997|-0.8660254037844388|\n",
						"|    3|31.0|          49|    19.1|         32.3|   0.0| 0.0| 0.0|        71|     20.4|       10|    0|    0|    0|    0|    0|    0|    0|    0|    0|    0|    0|    0|    1|    0|    0|    0|    0|    0|    0|    0|    0|    0|    0|    0|    0|    0|    0|    0|    0|    0|    0|    0|    0|    0|    0|    0|    0|    0|    0|    0|    0|    0|    0|    0|    0|    0|    0|    0|    0|    0|    0|    0|    0|    0|    0|    0|    0|             14.0|0.010041451598433147|0.9999495833539791|                0.5|0.8660254037844386| -0.4999999999999997|-0.8660254037844388|\n",
						"|    1|31.0|          49|    19.1|         32.3|   0.0| 0.0| 0.0|        71|     20.4|        8|    0|    0|    0|    0|    0|    0|    0|    0|    0|    0|    0|    0|    0|    0|    0|    0|    0|    0|    0|    0|    0|    0|    0|    0|    0|    0|    0|    1|    0|    0|    0|    0|    0|    0|    0|    0|    0|    0|    0|    0|    0|    0|    0|    0|    0|    0|    0|    0|    0|    0|    0|    0|    0|    0|    0|    0|    0|             14.0|0.010041451598433147|0.9999495833539791|                0.5|0.8660254037844386| -0.4999999999999997|-0.8660254037844388|\n",
						"|    1|27.9|          62|    20.0|         30.0|   1.8| 1.8| 0.0|        28|     13.7|       14|    0|    0|    0|    0|    0|    0|    0|    0|    0|    0|    0|    0|    0|    0|    0|    0|    0|    0|    0|    1|    0|    0|    0|    0|    0|    0|    0|    0|    0|    0|    0|    0|    0|    0|    0|    0|    0|    0|    0|    0|    0|    0|    0|    0|    0|    0|    0|    0|    0|    0|    0|    0|    0|    0|    0|    0|    0|             15.0|0.010758671388911385|0.9999421238201466| 0.5320320765153366|0.8467241992282841| -0.7071067811865471|-0.7071067811865479|\n",
						"|    1|27.9|          62|    20.0|         30.0|   1.8| 1.8| 0.0|        28|     13.7|       10|    0|    0|    0|    0|    0|    0|    0|    0|    0|    0|    0|    0|    1|    0|    0|    0|    0|    0|    0|    0|    0|    0|    0|    0|    0|    0|    0|    0|    0|    0|    0|    0|    0|    0|    0|    0|    0|    0|    0|    0|    0|    0|    0|    0|    0|    0|    0|    0|    0|    0|    0|    0|    0|    0|    0|    0|    0|             15.0|0.010758671388911385|0.9999421238201466| 0.5320320765153366|0.8467241992282841| -0.7071067811865471|-0.7071067811865479|\n",
						"|    2|27.9|          62|    20.0|         30.0|   1.8| 1.8| 0.0|        28|     13.7|       21|    0|    0|    0|    0|    0|    0|    0|    0|    0|    0|    0|    0|    0|    0|    0|    0|    0|    0|    0|    0|    0|    1|    0|    0|    0|    0|    0|    0|    0|    0|    0|    0|    0|    0|    0|    0|    0|    0|    0|    0|    0|    0|    0|    0|    0|    0|    0|    0|    0|    0|    0|    0|    0|    0|    0|    0|    0|             15.0|0.010758671388911385|0.9999421238201466| 0.5320320765153366|0.8467241992282841| -0.7071067811865471|-0.7071067811865479|\n",
						"|    1|27.7|          68|    21.4|         29.2|   0.0| 0.0| 0.0|        22|     17.6|       15|    0|    0|    0|    0|    0|    0|    1|    0|    0|    0|    0|    0|    0|    0|    0|    0|    0|    0|    0|    0|    0|    0|    0|    0|    0|    0|    0|    0|    0|    0|    0|    0|    0|    0|    0|    0|    0|    0|    0|    0|    0|    0|    0|    0|    0|    0|    0|    0|    0|    0|    0|    0|    0|    0|    0|    0|    0|             17.0| 0.01219309399617578|0.9999256614662914| 0.5938201855735017|0.8045977797666684| -0.9659258262890681|-0.2588190451025215|\n",
						"|    4|27.7|          68|    21.4|         29.2|   0.0| 0.0| 0.0|        22|     17.6|        9|    0|    0|    0|    0|    0|    0|    0|    1|    0|    0|    0|    0|    0|    0|    0|    0|    0|    0|    0|    0|    0|    0|    0|    0|    0|    0|    0|    0|    0|    0|    0|    0|    0|    0|    0|    0|    0|    0|    0|    0|    0|    0|    0|    0|    0|    0|    0|    0|    0|    0|    0|    0|    0|    0|    0|    0|    0|             17.0| 0.01219309399617578|0.9999256614662914| 0.5938201855735017|0.8045977797666684| -0.9659258262890681|-0.2588190451025215|\n",
						"|    1|27.7|          68|    21.4|         29.2|   0.0| 0.0| 0.0|        22|     17.6|       10|    0|    0|    0|    0|    0|    0|    0|    0|    0|    0|    0|    1|    0|    0|    0|    0|    0|    0|    0|    0|    0|    0|    0|    0|    0|    0|    0|    0|    0|    0|    0|    0|    0|    0|    0|    0|    0|    0|    0|    0|    0|    0|    0|    0|    0|    0|    0|    0|    0|    0|    0|    0|    0|    0|    0|    0|    0|             17.0| 0.01219309399617578|0.9999256614662914| 0.5938201855735017|0.8045977797666684| -0.9659258262890681|-0.2588190451025215|\n",
						"|    2|27.7|          68|    21.4|         29.2|   0.0| 0.0| 0.0|        22|     17.6|        7|    0|    0|    0|    0|    0|    0|    0|    0|    0|    1|    0|    0|    0|    0|    0|    0|    0|    0|    0|    0|    0|    0|    0|    0|    0|    0|    0|    0|    0|    0|    0|    0|    0|    0|    0|    0|    0|    0|    0|    0|    0|    0|    0|    0|    0|    0|    0|    0|    0|    0|    0|    0|    0|    0|    0|    0|    0|             17.0| 0.01219309399617578|0.9999256614662914| 0.5938201855735017|0.8045977797666684| -0.9659258262890681|-0.2588190451025215|\n",
						"+-----+----+------------+--------+-------------+------+----+----+----------+---------+---------+-----+-----+-----+-----+-----+-----+-----+-----+-----+-----+-----+-----+-----+-----+-----+-----+-----+-----+-----+-----+-----+-----+-----+-----+-----+-----+-----+-----+-----+-----+-----+-----+-----+-----+-----+-----+-----+-----+-----+-----+-----+-----+-----+-----+-----+-----+-----+-----+-----+-----+-----+-----+-----+-----+-----+-----+-----+-----------------+--------------------+------------------+-------------------+------------------+--------------------+-------------------+\n",
						"only showing top 20 rows\n",
						"\n"
					]
				}
			],
			"source": [
				"df_new.show()"
			]
		},
		{
			"attachments": {},
			"cell_type": "markdown",
			"metadata": {},
			"source": [
				"## Spark to Glue"
			]
		},
		{
			"cell_type": "code",
			"execution_count": null,
			"metadata": {
				"trusted": true
			},
			"outputs": [],
			"source": [
				"from awsglue.dynamicframe import DynamicFrame\n",
				"\n",
				"#Convert from spark df to dynamic frame\n",
				"wtl_static_dyf = DynamicFrame.fromDF(wtl_static_final, glueContext, 'convert')"
			]
		},
		{
			"cell_type": "code",
			"execution_count": null,
			"metadata": {
				"trusted": true
			},
			"outputs": [],
			"source": [
				"# Check if static table exists\n",
				"# If the static table does not exist, create\n",
				"import boto3\n",
				"\n",
				"database_name = \"divvy\"\n",
				"table_name = \"static\"\n",
				"glue_client = boto3.client('glue')\n",
				"\n",
				"schema = wtl_static_dyf.schema()\n",
				"columns = [\n",
				"    {\n",
				"        \"Name\": field.name,\n",
				"        \"Type\": field.dataType.typeName()\n",
				"    }\n",
				"    for field in schema.fields\n",
				"]\n",
				"\n",
				"# Create table configurations\n",
				"create_table_options_static = {\n",
				"    \"DatabaseName\": database_name,\n",
				"    \"TableInput\": {\n",
				"        \"Name\": table_name,\n",
				"        \"Description\": \"Streamed data for divvy bikes\",\n",
				"        \"StorageDescriptor\": {\n",
				"            \"Columns\": columns,\n",
				"            \"Location\": \"s3://usecases-glue-jobs/divvy/static/static_to_store/\",\n",
				"            \"InputFormat\": \"org.apache.hadoop.mapred.TextInputFormat\",\n",
				"            \"OutputFormat\": \"org.apache.hadoop.hive.ql.io.HiveIgnoreKeyTextOutputFormat\",\n",
				"            \"Compressed\": False,\n",
				"            \"SerdeInfo\": {\n",
				"                \"SerializationLibrary\": \"org.apache.hadoop.hive.serde2.lazy.LazySimpleSerDe\",\n",
				"                \"Parameters\": {\n",
				"                    \"field.delim\": \",\"\n",
				"                }\n",
				"            }\n",
				"        },\n",
				"        \"PartitionKeys\": []\n",
				"    }\n",
				"}\n",
				"\n",
				"\n",
				"try: \n",
				"    response = glue_client.get_table(\n",
				"    DatabaseName=database_name,\n",
				"    Name=table_name\n",
				")\n",
				"except:\n",
				"    glue_client = boto3.client('glue')\n",
				"    response_static = glue_client.create_table(**create_table_options_static)\n",
				"    print(f\"{table_name} does not exist. Creating...\")\n",
				"\n",
				"glueContext.write_dynamic_frame.from_catalog(\n",
				"    frame = wtl_streamed_dyf,\n",
				"    database = \"divvy\",\n",
				"    table_name = \"static\",\n",
				"    create_dynamic_frame_options={\n",
				"        \"type\": \"csv\",\n",
				"        \"schema\": wtl_static_dyf.schema()\n",
				"    }\n",
				")\n",
				"\n",
				"print(f\"Sucessfully wrote to {table_name}\")"
			]
		}
	],
	"metadata": {
		"kernelspec": {
			"display_name": "Python 3.10.6 ('msia_env')",
			"language": "python",
			"name": "python3"
		},
		"language_info": {
			"codemirror_mode": {
				"name": "ipython",
				"version": 3
			},
			"file_extension": ".py",
			"mimetype": "text/x-python",
			"name": "python",
			"nbconvert_exporter": "python",
			"pygments_lexer": "ipython3",
			"version": "3.10.6"
		},
		"vscode": {
			"interpreter": {
				"hash": "12eef76e2d2a105dd2d8b4930fec94ff07b63b72c8f772f56fcf111babd83a82"
			}
		}
	},
	"nbformat": 4,
	"nbformat_minor": 4
}
